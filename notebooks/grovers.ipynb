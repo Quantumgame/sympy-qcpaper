{
 "metadata": {
  "name": "grovers"
 }, 
 "nbformat": 2, 
 "worksheets": [
  {
   "cells": [
    {
     "cell_type": "markdown", 
     "source": [
      "<h1>Grover's Algorithm</h1>"
     ]
    }, 
    {
     "cell_type": "code", 
     "collapsed": true, 
     "input": [
      "%load_ext sympyprinting"
     ], 
     "language": "python", 
     "outputs": [], 
     "prompt_number": 1
    }, 
    {
     "cell_type": "code", 
     "collapsed": true, 
     "input": [
      "from sympy import sqrt, symbols, Rational", 
      "from sympy import expand, Eq, Symbol, simplify, exp, sin", 
      "from sympy.physics.quantum import *", 
      "from sympy.physics.quantum.qubit import *", 
      "from sympy.physics.quantum.gate import *", 
      "from sympy.physics.quantum.grover import *", 
      "from sympy.physics.quantum.qft import QFT, IQFT, Fourier", 
      "from sympy.physics.quantum.circuitplot import circuit_plot"
     ], 
     "language": "python", 
     "outputs": [], 
     "prompt_number": 2
    }, 
    {
     "cell_type": "code", 
     "collapsed": true, 
     "input": [
      "nqubits = 3"
     ], 
     "language": "python", 
     "outputs": [], 
     "prompt_number": 3
    }, 
    {
     "cell_type": "markdown", 
     "source": [
      "Grover's algorithm is a quantum algorithm which searches an unordered database (inverts a function).<br/>", 
      "Provides polynomial speedup over classical brute-force search ($O(\\sqrt{N}) vs. O(N))$ "
     ]
    }, 
    {
     "cell_type": "markdown", 
     "source": [
      "Define a black box function that returns True if it is passed the state we are searching for."
     ]
    }, 
    {
     "cell_type": "code", 
     "collapsed": true, 
     "input": [
      "def black_box(qubits):", 
      "    return True if qubits == IntQubit(1, qubits.nqubits) else False"
     ], 
     "language": "python", 
     "outputs": [], 
     "prompt_number": 4
    }, 
    {
     "cell_type": "markdown", 
     "source": [
      "Build a uniform superposition state to start the search."
     ]
    }, 
    {
     "cell_type": "code", 
     "collapsed": true, 
     "input": [
      "psi = superposition_basis(nqubits); psi"
     ], 
     "language": "python", 
     "outputs": [], 
     "prompt_number": 5
    }, 
    {
     "cell_type": "code", 
     "collapsed": true, 
     "input": [
      "v = OracleGate(nqubits, black_box)"
     ], 
     "language": "python", 
     "outputs": [], 
     "prompt_number": 6
    }, 
    {
     "cell_type": "markdown", 
     "source": [
      "Perform two iterations of Grover's algorithm.  Each iteration, the amplitude of the target state increases."
     ]
    }, 
    {
     "cell_type": "code", 
     "collapsed": true, 
     "input": [
      "iter1 = qapply(grover_iteration(psi, v)); iter1"
     ], 
     "language": "python", 
     "outputs": [], 
     "prompt_number": 7
    }, 
    {
     "cell_type": "code", 
     "collapsed": true, 
     "input": [
      "iter2 = qapply(grover_iteration(iter1, v)); iter2"
     ], 
     "language": "python", 
     "outputs": [], 
     "prompt_number": 8
    }, 
    {
     "cell_type": "markdown", 
     "source": [
      "A single shot measurement is performed to retrieve the target state."
     ]
    }, 
    {
     "cell_type": "code", 
     "collapsed": true, 
     "input": [
      "measure_all_oneshot(iter2)"
     ], 
     "language": "python", 
     "outputs": [], 
     "prompt_number": 9
    }, 
    {
     "cell_type": "code", 
     "collapsed": true, 
     "input": [
      "%notebook save grovers.ipynb"
     ], 
     "language": "python", 
     "outputs": [], 
     "prompt_number": 28
    }, 
    {
     "cell_type": "code", 
     "collapsed": true, 
     "input": [
      "%notebook load qft.ipynb"
     ], 
     "language": "python", 
     "outputs": [], 
     "prompt_number": 63
    }
   ]
  }
 ]
}