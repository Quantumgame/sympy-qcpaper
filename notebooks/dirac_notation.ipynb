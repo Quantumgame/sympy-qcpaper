{
 "metadata": {
  "name": ""
 },
 "nbformat": 3,
 "nbformat_minor": 0,
 "worksheets": [
  {
   "cells": [
    {
     "cell_type": "heading",
     "level": 1,
     "metadata": {},
     "source": [
      "Basic Symbolic Quantum Mechanics"
     ]
    },
    {
     "cell_type": "code",
     "collapsed": true,
     "input": [
      "from sympy import init_printing\n",
      "init_printing(use_latex=True)"
     ],
     "language": "python",
     "metadata": {},
     "outputs": [],
     "prompt_number": 15
    },
    {
     "cell_type": "code",
     "collapsed": true,
     "input": [
      "from sympy import sqrt, symbols, Rational, srepr\n",
      "from sympy import expand, Eq, Symbol, simplify, exp, sin\n",
      "from sympy.physics.quantum import *\n",
      "from sympy.physics.quantum.qubit import *\n",
      "from sympy.physics.quantum.gate import *\n",
      "from sympy.physics.quantum.grover import *\n",
      "from sympy.physics.quantum.qft import QFT, IQFT, Fourier\n",
      "from sympy.physics.quantum.circuitplot import circuit_plot"
     ],
     "language": "python",
     "metadata": {},
     "outputs": [],
     "prompt_number": 16
    },
    {
     "cell_type": "heading",
     "level": 2,
     "metadata": {},
     "source": [
      "Bras and kets"
     ]
    },
    {
     "cell_type": "markdown",
     "metadata": {},
     "source": [
      "Symbolic kets can be created using the `Ket` class as seen here:"
     ]
    },
    {
     "cell_type": "code",
     "collapsed": true,
     "input": [
      "phi, psi = Ket('phi'), Ket('psi')"
     ],
     "language": "python",
     "metadata": {},
     "outputs": [],
     "prompt_number": 17
    },
    {
     "cell_type": "markdown",
     "metadata": {},
     "source": [
      "These ket instances are fully symbolic and behave exactly like the corresponding mathematical entities.\n",
      "For example, one can form a linear combination using addition and scalar multiplication:"
     ]
    },
    {
     "cell_type": "code",
     "collapsed": false,
     "input": [
      "alpha = Symbol('alpha', complex=True)\n",
      "beta = Symbol('beta', complex=True)\n",
      "state = alpha*psi + beta*phi; state"
     ],
     "language": "python",
     "metadata": {},
     "outputs": [
      {
       "latex": [
        "$$\\alpha {\\left|\\psi\\right\\rangle } + \\beta {\\left|\\phi\\right\\rangle }$$"
       ],
       "metadata": {},
       "output_type": "pyout",
       "png": "[encoded data removed]",
       "prompt_number": 18,
       "text": [
        "\u03b1\u22c5\u2758\u03c8\u27e9 + \u03b2\u22c5\u2758\u03c6\u27e9"
       ]
      }
     ],
     "prompt_number": 18
    },
    {
     "cell_type": "markdown",
     "metadata": {},
     "source": [
      "Bras can be created using the `Bra` class directly or by using the `Dagger` class\n",
      "on an expression involving kets:"
     ]
    },
    {
     "cell_type": "code",
     "collapsed": false,
     "input": [
      "ip = Dagger(state)*state; ip"
     ],
     "language": "python",
     "metadata": {},
     "outputs": [
      {
       "latex": [
        "$$\\left(\\overline{\\alpha} {\\left\\langle \\psi\\right|} + \\overline{\\beta} {\\left\\langle \\phi\\right|}\\right) \\left(\\alpha {\\left|\\psi\\right\\rangle } + \\beta {\\left|\\phi\\right\\rangle }\\right)$$"
       ],
       "metadata": {},
       "output_type": "pyout",
       "png": "[encoded data removed]",
       "prompt_number": 19,
       "text": [
        "\u239b_       _    \u239e                \n",
        "\u239d\u03b1\u22c5\u27e8\u03c8\u2758 + \u03b2\u22c5\u27e8\u03c6\u2758\u23a0\u22c5(\u03b1\u22c5\u2758\u03c8\u27e9 + \u03b2\u22c5\u2758\u03c6\u27e9)"
       ]
      }
     ],
     "prompt_number": 19
    },
    {
     "cell_type": "markdown",
     "metadata": {},
     "source": [
      "Because this is a standard SymPy expression, we can use standard SymPy functions and methods\n",
      "for manipulating expression. Here we use expand to multiply this expression out, followed\n",
      "by `qapply` which identifies inner and outer products in an expression."
     ]
    },
    {
     "cell_type": "code",
     "collapsed": false,
     "input": [
      "qapply(expand(ip))"
     ],
     "language": "python",
     "metadata": {},
     "outputs": [
      {
       "latex": [
        "$$\\alpha \\overline{\\alpha} \\left\\langle \\psi \\right. {\\left|\\psi\\right\\rangle } + \\alpha \\overline{\\beta} \\left\\langle \\phi \\right. {\\left|\\psi\\right\\rangle } + \\beta \\overline{\\alpha} \\left\\langle \\psi \\right. {\\left|\\phi\\right\\rangle } + \\beta \\overline{\\beta} \\left\\langle \\phi \\right. {\\left|\\phi\\right\\rangle }$$"
       ],
       "metadata": {},
       "output_type": "pyout",
       "png": "[encoded data removed]",
       "prompt_number": 20,
       "text": [
        "  _           _           _           _      \n",
        "\u03b1\u22c5\u03b1\u22c5\u27e8\u03c8\u2758\u03c8\u27e9 + \u03b1\u22c5\u03b2\u22c5\u27e8\u03c6\u2758\u03c8\u27e9 + \u03b2\u22c5\u03b1\u22c5\u27e8\u03c8\u2758\u03c6\u27e9 + \u03b2\u22c5\u03b2\u22c5\u27e8\u03c6\u2758\u03c6\u27e9"
       ]
      }
     ],
     "prompt_number": 20
    },
    {
     "cell_type": "heading",
     "level": 2,
     "metadata": {},
     "source": [
      "Operators"
     ]
    },
    {
     "cell_type": "markdown",
     "metadata": {},
     "source": [
      "SymPy also has a full set of classes for handling symbolic operators.  Here we create three operators,\n",
      "one of which is hermitian:"
     ]
    },
    {
     "cell_type": "code",
     "collapsed": true,
     "input": [
      "A = Operator('A')\n",
      "B = Operator('B')\n",
      "C = HermitianOperator('C')"
     ],
     "language": "python",
     "metadata": {},
     "outputs": [],
     "prompt_number": 21
    },
    {
     "cell_type": "markdown",
     "metadata": {},
     "source": [
      "When used in arithmetic expressions SymPy knows that operators do not commute under\n",
      "multiplication/composition as is seen by expanding a polynomial of operators:"
     ]
    },
    {
     "cell_type": "code",
     "collapsed": false,
     "input": [
      "expand((A+B)**2)"
     ],
     "language": "python",
     "metadata": {},
     "outputs": [
      {
       "latex": [
        "$$A B + \\left(A\\right)^{2} + B A + \\left(B\\right)^{2}$$"
       ],
       "metadata": {},
       "output_type": "pyout",
       "png": "[encoded data removed]",
       "prompt_number": 22,
       "text": [
        "       2          2\n",
        "A\u22c5B + A  + B\u22c5A + B "
       ]
      }
     ],
     "prompt_number": 22
    },
    {
     "cell_type": "markdown",
     "metadata": {},
     "source": [
      "Commutators of operators can also be created:"
     ]
    },
    {
     "cell_type": "code",
     "collapsed": false,
     "input": [
      "comm = Commutator(A*B,B+C); comm"
     ],
     "language": "python",
     "metadata": {},
     "outputs": [
      {
       "latex": [
        "$$\\left[A B,C + B\\right]$$"
       ],
       "metadata": {},
       "output_type": "pyout",
       "png": "[encoded data removed]",
       "prompt_number": 23,
       "text": [
        "[A\u22c5B,C + B]"
       ]
      }
     ],
     "prompt_number": 23
    },
    {
     "cell_type": "markdown",
     "metadata": {},
     "source": [
      "The `expand` function has custom logic for expanding commutators using standard commutator\n",
      "relations:"
     ]
    },
    {
     "cell_type": "code",
     "collapsed": false,
     "input": [
      "comm.expand(commutator=True)"
     ],
     "language": "python",
     "metadata": {},
     "outputs": [
      {
       "latex": [
        "$$- \\left[C,A\\right] B + \\left[A,B\\right] B - A \\left[C,B\\right]$$"
       ],
       "metadata": {},
       "output_type": "pyout",
       "png": "[encoded data removed]",
       "prompt_number": 24,
       "text": [
        "-[C,A]\u22c5B + [A,B]\u22c5B - A\u22c5[C,B]"
       ]
      }
     ],
     "prompt_number": 24
    },
    {
     "cell_type": "markdown",
     "metadata": {},
     "source": [
      "Any commutator can be performed ($[A,B]\\rightarrow AB-BA$) using the `doit` method:"
     ]
    },
    {
     "cell_type": "code",
     "collapsed": false,
     "input": [
      "_.doit().expand()"
     ],
     "language": "python",
     "metadata": {},
     "outputs": [
      {
       "latex": [
        "$$- C A B + A B C + A \\left(B\\right)^{2} - B A B$$"
       ],
       "metadata": {},
       "output_type": "pyout",
       "png": "[encoded data removed]",
       "prompt_number": 25,
       "text": [
        "                    2        \n",
        "-C\u22c5A\u22c5B + A\u22c5B\u22c5C + A\u22c5B  - B\u22c5A\u22c5B"
       ]
      }
     ],
     "prompt_number": 25
    },
    {
     "cell_type": "markdown",
     "metadata": {},
     "source": [
      "The `Dagger` class also works with operators and is aware of the properties of unitary\n",
      "and hermitian operators:"
     ]
    },
    {
     "cell_type": "code",
     "collapsed": false,
     "input": [
      "Dagger(_)"
     ],
     "language": "python",
     "metadata": {},
     "outputs": [
      {
       "latex": [
        "$$- B^{\\dagger} A^{\\dagger} B^{\\dagger} - B^{\\dagger} A^{\\dagger} C + \\left(B^{\\dagger}\\right)^{2} A^{\\dagger} + C B^{\\dagger} A^{\\dagger}$$"
       ],
       "metadata": {},
       "output_type": "pyout",
       "png": "[encoded data removed]",
       "prompt_number": 26,
       "text": [
        "                           2             \n",
        "   \u2020  \u2020  \u2020    \u2020  \u2020     \u239b \u2020\u239e   \u2020      \u2020  \u2020\n",
        "- B \u22c5A \u22c5B  - B \u22c5A \u22c5C + \u239dB \u23a0 \u22c5A  + C\u22c5B \u22c5A "
       ]
      }
     ],
     "prompt_number": 26
    },
    {
     "cell_type": "heading",
     "level": 2,
     "metadata": {},
     "source": [
      "Tensor products"
     ]
    },
    {
     "cell_type": "markdown",
     "metadata": {},
     "source": [
      "Symbolic tensor products of operators and states can also be created and manipulated:"
     ]
    },
    {
     "cell_type": "code",
     "collapsed": false,
     "input": [
      "op = TensorProduct(A,B+C)\n",
      "state = TensorProduct(psi,phi)\n",
      "op*state"
     ],
     "language": "python",
     "metadata": {},
     "outputs": [
      {
       "latex": [
        "$${A}\\otimes \\left({C + B}\\right) {{\\left|\\psi\\right\\rangle }}\\otimes {{\\left|\\phi\\right\\rangle }}$$"
       ],
       "metadata": {},
       "output_type": "pyout",
       "png": "[encoded data removed]",
       "prompt_number": 27,
       "text": [
        "A\u2a02 (C + B)\u22c5\u2758\u03c8\u27e9\u2a02 \u2758\u03c6\u27e9"
       ]
      }
     ],
     "prompt_number": 27
    },
    {
     "cell_type": "markdown",
     "metadata": {},
     "source": [
      "Once a tensor product has been created, it can be simplified,"
     ]
    },
    {
     "cell_type": "code",
     "collapsed": false,
     "input": [
      "tensor_product_simp(_)"
     ],
     "language": "python",
     "metadata": {},
     "outputs": [
      {
       "latex": [
        "$$\\left({A {\\left|\\psi\\right\\rangle }}\\right)\\otimes \\left({\\left(C + B\\right) {\\left|\\phi\\right\\rangle }}\\right)$$"
       ],
       "metadata": {},
       "output_type": "pyout",
       "png": "[encoded data removed]",
       "prompt_number": 28,
       "text": [
        "(A\u22c5\u2758\u03c8\u27e9)\u2a02 ((C + B)\u22c5\u2758\u03c6\u27e9)"
       ]
      }
     ],
     "prompt_number": 28
    },
    {
     "cell_type": "markdown",
     "metadata": {},
     "source": [
      "and expanded:"
     ]
    },
    {
     "cell_type": "code",
     "collapsed": false,
     "input": [
      "expand(_)"
     ],
     "language": "python",
     "metadata": {},
     "outputs": [
      {
       "latex": [
        "$$\\left({A {\\left|\\psi\\right\\rangle }}\\right)\\otimes \\left({C {\\left|\\phi\\right\\rangle } + B {\\left|\\phi\\right\\rangle }}\\right)$$"
       ],
       "metadata": {},
       "output_type": "pyout",
       "png": "[encoded data removed]",
       "prompt_number": 29,
       "text": [
        "(A\u22c5\u2758\u03c8\u27e9)\u2a02 (C\u22c5\u2758\u03c6\u27e9 + B\u22c5\u2758\u03c6\u27e9)"
       ]
      }
     ],
     "prompt_number": 29
    },
    {
     "cell_type": "code",
     "collapsed": false,
     "input": [],
     "language": "python",
     "metadata": {},
     "outputs": []
    }
   ],
   "metadata": {}
  }
 ]
}