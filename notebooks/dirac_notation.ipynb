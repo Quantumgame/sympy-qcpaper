{
 "metadata": {
  "name": "dirac_notation"
 }, 
 "nbformat": 2, 
 "worksheets": [
  {
   "cells": [
    {
     "cell_type": "markdown", 
     "source": [
      "Basic Symbolic Quantum Mechanics"
     ]
    }, 
    {
     "cell_type": "code", 
     "collapsed": true, 
     "input": [
      "%load_ext sympyprinting"
     ], 
     "language": "python", 
     "outputs": [], 
     "prompt_number": 38
    }, 
    {
     "cell_type": "code", 
     "collapsed": true, 
     "input": [
      "from sympy import sqrt, symbols, Rational, srepr", 
      "from sympy import expand, Eq, Symbol, simplify, exp, sin", 
      "from sympy.physics.quantum import *", 
      "from sympy.physics.quantum.qubit import *", 
      "from sympy.physics.quantum.gate import *", 
      "from sympy.physics.quantum.grover import *", 
      "from sympy.physics.quantum.qft import QFT, IQFT, Fourier", 
      "from sympy.physics.quantum.circuitplot import circuit_plot"
     ], 
     "language": "python", 
     "outputs": [], 
     "prompt_number": 39
    }, 
    {
     "cell_type": "markdown", 
     "source": [
      "\\subsubsection{Bras and kets}"
     ]
    }, 
    {
     "cell_type": "markdown", 
     "source": [
      "Symbolic kets can be created using the \\verb:Ket: class as seen here:"
     ]
    }, 
    {
     "cell_type": "code", 
     "collapsed": true, 
     "input": [
      "phi, psi = Ket('phi'), Ket('psi')"
     ], 
     "language": "python", 
     "outputs": [], 
     "prompt_number": 40
    }, 
    {
     "cell_type": "markdown", 
     "source": [
      "These ket instances are fully symbolic and behave exactly like the corresponding mathematical entities.", 
      "For example, one can form a linear combination using addition and scalar multiplication:"
     ]
    }, 
    {
     "cell_type": "code", 
     "collapsed": false, 
     "input": [
      "alpha = Symbol('alpha', complex=True)", 
      "beta = Symbol('beta', complex=True)", 
      "state = alpha*psi + beta*phi; state"
     ], 
     "language": "python", 
     "outputs": [
      {
       "latex": [
        "$$\\alpha {\\left|\\psi\\right\\rangle } + \\beta {\\left|\\phi\\right\\rangle }$$"
       ], 
       "output_type": "pyout", 
       "png": "[encoded data removed]", 
       "prompt_number": 41, 
       "text": [
        "\u03b1\u22c5\u2758\u03c8\u27e9 + \u03b2\u22c5\u2758\u03c6\u27e9"
       ]
      }
     ], 
     "prompt_number": 41
    }, 
    {
     "cell_type": "markdown", 
     "source": [
      "Bras can be created using the \\verb:Bra: class directly or by using the \\verb:Dagger: class", 
      "on an expression involving kets:"
     ]
    }, 
    {
     "cell_type": "code", 
     "collapsed": false, 
     "input": [
      "ip = Dagger(state)*state; ip"
     ], 
     "language": "python", 
     "outputs": [
      {
       "latex": [
        "$$\\left(\\overline{\\alpha} {\\left\\langle \\psi\\right|} + \\overline{\\beta} {\\left\\langle \\phi\\right|}\\right) \\left(\\alpha {\\left|\\psi\\right\\rangle } + \\beta {\\left|\\phi\\right\\rangle }\\right)$$"
       ], 
       "output_type": "pyout", 
       "png": "[encoded data removed]", 
       "prompt_number": 42, 
       "text": [
        "", 
        "\u239b\u23bd       \u23bd    \u239e                ", 
        "\u239d\u03b1\u22c5\u27e8\u03c8\u2758 + \u03b2\u22c5\u27e8\u03c6\u2758\u23a0\u22c5(\u03b1\u22c5\u2758\u03c8\u27e9 + \u03b2\u22c5\u2758\u03c6\u27e9)"
       ]
      }
     ], 
     "prompt_number": 42
    }, 
    {
     "cell_type": "markdown", 
     "source": [
      "Because this is a standard SymPy expression, we can use standard SymPy functions and methods", 
      "for manipulating expression. Here we use expand to multiply this expression out, followed", 
      "by \\verb:qapply: which identifies inner and outer products in an expression."
     ]
    }, 
    {
     "cell_type": "code", 
     "collapsed": false, 
     "input": [
      "qapply(expand(ip))"
     ], 
     "language": "python", 
     "outputs": [
      {
       "latex": [
        "$$\\alpha \\overline{\\alpha} \\left\\langle \\psi \\right. {\\left|\\psi\\right\\rangle } + \\alpha \\overline{\\beta} \\left\\langle \\phi \\right. {\\left|\\psi\\right\\rangle } + \\beta \\overline{\\alpha} \\left\\langle \\psi \\right. {\\left|\\phi\\right\\rangle } + \\beta \\overline{\\beta} \\left\\langle \\phi \\right. {\\left|\\phi\\right\\rangle }$$"
       ], 
       "output_type": "pyout", 
       "png": "[encoded data removed]", 
       "prompt_number": 43, 
       "text": [
        "", 
        "  \u23bd           \u23bd           \u23bd           \u23bd      ", 
        "\u03b1\u22c5\u03b1\u22c5\u27e8\u03c8\u2758\u03c8\u27e9 + \u03b1\u22c5\u03b2\u22c5\u27e8\u03c6\u2758\u03c8\u27e9 + \u03b2\u22c5\u03b1\u22c5\u27e8\u03c8\u2758\u03c6\u27e9 + \u03b2\u22c5\u03b2\u22c5\u27e8\u03c6\u2758\u03c6\u27e9"
       ]
      }
     ], 
     "prompt_number": 43
    }, 
    {
     "cell_type": "markdown", 
     "source": [
      "\\subsubsection{Operators}"
     ]
    }, 
    {
     "cell_type": "markdown", 
     "source": [
      "SymPy also has a full set of classes for handling symbolic operators.  Here we create three operators,", 
      "one of which is hermitian:"
     ]
    }, 
    {
     "cell_type": "code", 
     "collapsed": true, 
     "input": [
      "A = Operator('A')", 
      "B = Operator('B')", 
      "C = HermitianOperator('C')"
     ], 
     "language": "python", 
     "outputs": [], 
     "prompt_number": 44
    }, 
    {
     "cell_type": "markdown", 
     "source": [
      "When used in arithmetic expressions SymPy knows that operators do not commute under", 
      "multiplication/composition as is seen by expanding a polynomial of operators:"
     ]
    }, 
    {
     "cell_type": "code", 
     "collapsed": false, 
     "input": [
      "expand((A+B)**2)"
     ], 
     "language": "python", 
     "outputs": [
      {
       "latex": [
        "$$A B + \\left(A\\right)^{2} + B A + \\left(B\\right)^{2}$$"
       ], 
       "output_type": "pyout", 
       "png": "[encoded data removed]", 
       "prompt_number": 45, 
       "text": [
        "", 
        "       2          2", 
        "A\u22c5B + A  + B\u22c5A + B "
       ]
      }
     ], 
     "prompt_number": 45
    }, 
    {
     "cell_type": "markdown", 
     "source": [
      "Commutators of operators can also be created:"
     ]
    }, 
    {
     "cell_type": "code", 
     "collapsed": false, 
     "input": [
      "comm = Commutator(A*B,B+C); comm"
     ], 
     "language": "python", 
     "outputs": [
      {
       "latex": [
        "$$\\left[A B,C + B\\right]$$"
       ], 
       "output_type": "pyout", 
       "png": "[encoded data removed]", 
       "prompt_number": 46, 
       "text": [
        "[A\u22c5B,C + B]"
       ]
      }
     ], 
     "prompt_number": 46
    }, 
    {
     "cell_type": "markdown", 
     "source": [
      "The \\verb:expand: function has custom logic for expanding commutators using standard commutator", 
      "relations:"
     ]
    }, 
    {
     "cell_type": "code", 
     "collapsed": false, 
     "input": [
      "comm.expand(commutator=True)"
     ], 
     "language": "python", 
     "outputs": [
      {
       "latex": [
        "$$- \\left[C,A\\right] B + \\left[A,B\\right] B - A \\left[C,B\\right]$$"
       ], 
       "output_type": "pyout", 
       "png": "[encoded data removed]", 
       "prompt_number": 47, 
       "text": [
        "-[C,A]\u22c5B + [A,B]\u22c5B - A\u22c5[C,B]"
       ]
      }
     ], 
     "prompt_number": 47
    }, 
    {
     "cell_type": "markdown", 
     "source": [
      "Any commutator can be performed ($[A,B]\\rightarrow AB-BA$) using the \\verb:doit: method:"
     ]
    }, 
    {
     "cell_type": "code", 
     "collapsed": false, 
     "input": [
      "_.doit().expand()"
     ], 
     "language": "python", 
     "outputs": [
      {
       "latex": [
        "$$- C A B + A B C + A \\left(B\\right)^{2} - B A B$$"
       ], 
       "output_type": "pyout", 
       "png": "[encoded data removed]", 
       "prompt_number": 48, 
       "text": [
        "", 
        "                    2        ", 
        "-C\u22c5A\u22c5B + A\u22c5B\u22c5C + A\u22c5B  - B\u22c5A\u22c5B"
       ]
      }
     ], 
     "prompt_number": 48
    }, 
    {
     "cell_type": "markdown", 
     "source": [
      "The \\verb:Dagger: class also works with operators and is aware of the properties of unitary", 
      "and hermitian operators:"
     ]
    }, 
    {
     "cell_type": "code", 
     "collapsed": false, 
     "input": [
      "Dagger(_)"
     ], 
     "language": "python", 
     "outputs": [
      {
       "latex": [
        "$$- B^{\\dagger} A^{\\dagger} B^{\\dagger} - B^{\\dagger} A^{\\dagger} C + \\left(B^{\\dagger}\\right)^{2} A^{\\dagger} + C B^{\\dagger} A^{\\dagger}$$"
       ], 
       "output_type": "pyout", 
       "png": "[encoded data removed]", 
       "prompt_number": 49, 
       "text": [
        "", 
        "                           2             ", 
        "   \u2020  \u2020  \u2020    \u2020  \u2020     \u239b \u2020\u239e   \u2020      \u2020  \u2020", 
        "- B \u22c5A \u22c5B  - B \u22c5A \u22c5C + \u239dB \u23a0 \u22c5A  + C\u22c5B \u22c5A "
       ]
      }
     ], 
     "prompt_number": 49
    }, 
    {
     "cell_type": "markdown", 
     "source": [
      "\\subsubsection{Tensor products}"
     ]
    }, 
    {
     "cell_type": "markdown", 
     "source": [
      "Symbolic tensor products of operators and states can also be created and manipulated:"
     ]
    }, 
    {
     "cell_type": "code", 
     "collapsed": false, 
     "input": [
      "op = TensorProduct(A,B+C)", 
      "state = TensorProduct(psi,phi)", 
      "op*state"
     ], 
     "language": "python", 
     "outputs": [
      {
       "latex": [
        "$${A}\\otimes \\left({C + B}\\right) {{\\left|\\psi\\right\\rangle }}\\otimes {{\\left|\\phi\\right\\rangle }}$$"
       ], 
       "output_type": "pyout", 
       "png": "[encoded data removed]", 
       "prompt_number": 50, 
       "text": [
        "A\u2a02 (C + B)\u22c5\u2758\u03c8\u27e9\u2a02 \u2758\u03c6\u27e9"
       ]
      }
     ], 
     "prompt_number": 50
    }, 
    {
     "cell_type": "markdown", 
     "source": [
      "Once a tensor product has been created, it can be simplified,"
     ]
    }, 
    {
     "cell_type": "code", 
     "collapsed": false, 
     "input": [
      "tensor_product_simp(_)"
     ], 
     "language": "python", 
     "outputs": [
      {
       "latex": [
        "$$\\left({A {\\left|\\psi\\right\\rangle }}\\right)\\otimes \\left({\\left(C + B\\right) {\\left|\\phi\\right\\rangle }}\\right)$$"
       ], 
       "output_type": "pyout", 
       "png": "[encoded data removed]", 
       "prompt_number": 51, 
       "text": [
        "(A\u22c5\u2758\u03c8\u27e9)\u2a02 ((C + B)\u22c5\u2758\u03c6\u27e9)"
       ]
      }
     ], 
     "prompt_number": 51
    }, 
    {
     "cell_type": "markdown", 
     "source": [
      "and expanded:"
     ]
    }, 
    {
     "cell_type": "code", 
     "collapsed": false, 
     "input": [
      "expand(_)"
     ], 
     "language": "python", 
     "outputs": [
      {
       "latex": [
        "$$\\left({A {\\left|\\psi\\right\\rangle }}\\right)\\otimes \\left({C {\\left|\\phi\\right\\rangle } + B {\\left|\\phi\\right\\rangle }}\\right)$$"
       ], 
       "output_type": "pyout", 
       "png": "[encoded data removed]", 
       "prompt_number": 52, 
       "text": [
        "(A\u22c5\u2758\u03c8\u27e9)\u2a02 (C\u22c5\u2758\u03c6\u27e9 + B\u22c5\u2758\u03c6\u27e9)"
       ]
      }
     ], 
     "prompt_number": 52
    }
   ]
  }
 ]
}