{
 "metadata": {
  "name": "sympy"
 }, 
 "nbformat": 2, 
 "worksheets": [
  {
   "cells": [
    {
     "cell_type": "markdown", 
     "source": [
      "SymPy"
     ]
    }, 
    {
     "cell_type": "code", 
     "collapsed": true, 
     "input": [
      "%load_ext sympyprinting"
     ], 
     "language": "python", 
     "outputs": [], 
     "prompt_number": 41
    }, 
    {
     "cell_type": "code", 
     "collapsed": true, 
     "input": [
      "from __future__ import division", 
      "from sympy import *"
     ], 
     "language": "python", 
     "outputs": [], 
     "prompt_number": 42
    }, 
    {
     "cell_type": "markdown", 
     "source": [
      "We now show a few examples of SymPy's capabilities to show its usefulness as a general computer", 
      "algebra system. In SymPy symbols have to be created explicitely. Here we create the symbols", 
      "($x$, $y$, $z$):"
     ]
    }, 
    {
     "cell_type": "code", 
     "collapsed": true, 
     "input": [
      "x, y, z = symbols(\"x y z\")"
     ], 
     "language": "python", 
     "outputs": [], 
     "prompt_number": 43
    }, 
    {
     "cell_type": "markdown", 
     "source": [
      "Once these symbols have been created, symbolic expressions can be created and manipulated. Here is an", 
      "example involving a rational number, $\\pi$, $i$, $e$ and basic arithmetic operations:"
     ]
    }, 
    {
     "cell_type": "code", 
     "collapsed": false, 
     "input": [
      "Rational(3,2)*pi+exp(I*x) / (x**2+y)"
     ], 
     "language": "python", 
     "outputs": [
      {
       "latex": [
        "$$\\frac{3}{2} \\pi + \\frac{e^{\\mathbf{\\imath} x}}{x^{2} + y}$$"
       ], 
       "output_type": "pyout", 
       "png": "[encoded data removed]", 
       "prompt_number": 44, 
       "text": [
        "", 
        "        \u2148\u22c5x ", 
        "3\u22c5\u03c0    \u212f    ", 
        "\u2500\u2500\u2500 + \u2500\u2500\u2500\u2500\u2500\u2500", 
        " 2     2    ", 
        "      x  + y"
       ]
      }
     ], 
     "prompt_number": 44
    }, 
    {
     "cell_type": "markdown", 
     "source": [
      "Expressions can be evaluated numerically using SymPy's arbitrary precision arithmetic algorithms:"
     ]
    }, 
    {
     "cell_type": "code", 
     "collapsed": false, 
     "input": [
      "exp(pi*sqrt(163)).evalf(35)"
     ], 
     "language": "python", 
     "outputs": [
      {
       "latex": [
        "$$262537412640768743.99999999999925007$$"
       ], 
       "output_type": "pyout", 
       "png": "[encoded data removed]", 
       "prompt_number": 45, 
       "text": [
        "262537412640768743.99999999999925007"
       ]
      }
     ], 
     "prompt_number": 45
    }, 
    {
     "cell_type": "markdown", 
     "source": [
      "Here is an example of expanding and refactoring a polynomial:"
     ]
    }, 
    {
     "cell_type": "code", 
     "collapsed": false, 
     "input": [
      "((x+y)**2*(x+1)).expand()"
     ], 
     "language": "python", 
     "outputs": [
      {
       "latex": [
        "$$x^{3} + 2 x^{2} y + x^{2} + x y^{2} + 2 x y + y^{2}$$"
       ], 
       "output_type": "pyout", 
       "png": "[encoded data removed]", 
       "prompt_number": 46, 
       "text": [
        "", 
        " 3      2      2      2            2", 
        "x  + 2\u22c5x \u22c5y + x  + x\u22c5y  + 2\u22c5x\u22c5y + y "
       ]
      }
     ], 
     "prompt_number": 46
    }, 
    {
     "cell_type": "code", 
     "collapsed": false, 
     "input": [
      "factor(_)"
     ], 
     "language": "python", 
     "outputs": [
      {
       "latex": [
        "$$\\left(x + 1\\right) \\left(x + y\\right)^{2}$$"
       ], 
       "output_type": "pyout", 
       "png": "[encoded data removed]", 
       "prompt_number": 47, 
       "text": [
        "", 
        "               2", 
        "(x + 1)\u22c5(x + y) "
       ]
      }
     ], 
     "prompt_number": 47
    }, 
    {
     "cell_type": "markdown", 
     "source": [
      "Derivatives can be taken of expressions:"
     ]
    }, 
    {
     "cell_type": "code", 
     "collapsed": false, 
     "input": [
      "diff(cos(x**2)**2/(1+x), x)"
     ], 
     "language": "python", 
     "outputs": [
      {
       "latex": [
        "$$- 4 \\frac{x \\operatorname{sin}\\left(x^{2}\\right) \\operatorname{cos}\\left(x^{2}\\right)}{x + 1} - \\frac{\\operatorname{cos}^{2}\\left(x^{2}\\right)}{\\left(x + 1\\right)^{2}}$$"
       ], 
       "output_type": "pyout", 
       "png": "[encoded data removed]", 
       "prompt_number": 48, 
       "text": [
        "", 
        "                           2    ", 
        "         \u239b 2\u239e    \u239b 2\u239e       \u239b 2\u239e", 
        "  4\u22c5x\u22c5sin\u239dx \u23a0\u22c5cos\u239dx \u23a0   cos \u239dx \u23a0", 
        "- \u2500\u2500\u2500\u2500\u2500\u2500\u2500\u2500\u2500\u2500\u2500\u2500\u2500\u2500\u2500\u2500\u2500\u2500\u2500 - \u2500\u2500\u2500\u2500\u2500\u2500\u2500\u2500", 
        "         x + 1                 2", 
        "                        (x + 1) "
       ]
      }
     ], 
     "prompt_number": 48
    }, 
    {
     "cell_type": "markdown", 
     "source": [
      "We emphasize that these examples are merely representative of its vast capabilities. We encourage", 
      "the reader to consult the SymPy documentation for a more complete set of examples."
     ]
    }, 
    {
     "cell_type": "markdown", 
     "source": [
      "Python is an object oriented language and SymPy leverages that to build reusable objects for", 
      "symbolic mathematics. Internally, SymPy creates instances of these objects and stores them in an", 
      "expression tree. In this example, we construct a simple expression and then display its expression", 
      "tree and SymPy objects using the \\verb:srepr: function:"
     ]
    }, 
    {
     "cell_type": "code", 
     "collapsed": false, 
     "input": [
      "e = x + 2*y", 
      "srepr(e)"
     ], 
     "language": "python", 
     "outputs": [
      {
       "output_type": "pyout", 
       "prompt_number": 49, 
       "text": [
        "Add(Symbol(&apos;x&apos;), Mul(Integer(2), Symbol(&apos;y&apos;)))"
       ]
      }
     ], 
     "prompt_number": 49
    }, 
    {
     "cell_type": "markdown", 
     "source": [
      "This combination of object orientation and expression trees makes SymPy easily extensible; once", 
      "new objects are created they can immediately be used in arbitrary expressions."
     ]
    }
   ]
  }
 ]
}