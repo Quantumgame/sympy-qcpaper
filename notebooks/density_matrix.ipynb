{
 "metadata": {
  "name": "density_matrix"
 }, 
 "nbformat": 2, 
 "worksheets": [
  {
   "cells": [
    {
     "cell_type": "markdown", 
     "source": [
      "<h1>Symbolic Density Matrices</h1>"
     ]
    }, 
    {
     "cell_type": "code", 
     "collapsed": true, 
     "input": [
      "%load_ext sympyprinting"
     ], 
     "language": "python", 
     "outputs": [], 
     "prompt_number": 1
    }, 
    {
     "cell_type": "code", 
     "collapsed": true, 
     "input": [
      "from sympy import sqrt, symbols, Rational, S", 
      "from sympy import expand, Eq, Symbol, simplify, exp, sin", 
      "from sympy.physics.quantum import *", 
      "from sympy.physics.quantum.qubit import *", 
      "from sympy.physics.quantum.gate import *", 
      "from sympy.physics.quantum.grover import *", 
      "from sympy.physics.quantum.qft import QFT, IQFT, Fourier", 
      "from sympy.physics.quantum.circuitplot import circuit_plot", 
      "from sympy.physics.quantum.densityOp import *"
     ], 
     "language": "python", 
     "outputs": [], 
     "prompt_number": 2
    }, 
    {
     "cell_type": "markdown", 
     "source": [
      "Density Operators are used to represent systems which has both classical mixtures as well as quantum superpositions."
     ]
    }, 
    {
     "cell_type": "code", 
     "collapsed": true, 
     "input": [
      "state = Density([Qubit('00'),0.5],[(Qubit('00')+Qubit('11'))/sqrt(2),0.5]); state"
     ], 
     "language": "python", 
     "outputs": [], 
     "prompt_number": 3
    }, 
    {
     "cell_type": "markdown", 
     "source": [
      "In addition to Dirac notation, code can represent the state as a matrix."
     ]
    }, 
    {
     "cell_type": "code", 
     "collapsed": true, 
     "input": [
      "represent(state, nqubits=2)"
     ], 
     "language": "python", 
     "outputs": [], 
     "prompt_number": 4
    }, 
    {
     "cell_type": "markdown", 
     "source": [
      "Gate operators can be applied to density operators."
     ]
    }, 
    {
     "cell_type": "code", 
     "collapsed": true, 
     "input": [
      "qapply(state.operate_on(HadamardGate(0)))"
     ], 
     "language": "python", 
     "outputs": [], 
     "prompt_number": 5
    }, 
    {
     "cell_type": "markdown", 
     "source": [
      "Von Neumann Entropy can be calculated."
     ]
    }, 
    {
     "cell_type": "code", 
     "collapsed": true, 
     "input": [
      "state.entropy(nqubits=2)"
     ], 
     "language": "python", 
     "outputs": [], 
     "prompt_number": 6
    }, 
    {
     "cell_type": "code", 
     "collapsed": true, 
     "input": [
      "Density([Qubit('00'),1]).entropy(nqubits=2)"
     ], 
     "language": "python", 
     "outputs": [], 
     "prompt_number": 7
    }, 
    {
     "cell_type": "markdown", 
     "source": [
      "We can also create symbolic states."
     ]
    }, 
    {
     "cell_type": "code", 
     "collapsed": true, 
     "input": [
      "genState = Density([Ket('psi'),.5],[Ket('phi'),.5]); genState"
     ], 
     "language": "python", 
     "outputs": [], 
     "prompt_number": 8
    }, 
    {
     "cell_type": "code", 
     "collapsed": true, 
     "input": [
      "%notebook save density_matrix.ipynb"
     ], 
     "language": "python", 
     "outputs": [], 
     "prompt_number": 16
    }, 
    {
     "cell_type": "code", 
     "collapsed": true, 
     "input": [
      "%notebook load qerror.ipynb"
     ], 
     "language": "python", 
     "outputs": [], 
     "prompt_number": 19
    }
   ]
  }
 ]
}