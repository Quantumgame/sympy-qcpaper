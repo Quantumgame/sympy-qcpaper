{
 "metadata": {
  "name": ""
 },
 "nbformat": 3,
 "nbformat_minor": 0,
 "worksheets": [
  {
   "cells": [
    {
     "cell_type": "heading",
     "level": 1,
     "metadata": {},
     "source": [
      "Symbolic Quantum Computing"
     ]
    },
    {
     "cell_type": "code",
     "collapsed": false,
     "input": [
      "%pylab inline"
     ],
     "language": "python",
     "metadata": {},
     "outputs": [
      {
       "output_type": "stream",
       "stream": "stdout",
       "text": [
        "Populating the interactive namespace from numpy and matplotlib\n"
       ]
      }
     ],
     "prompt_number": 1
    },
    {
     "cell_type": "code",
     "collapsed": false,
     "input": [
      "from IPython.display import display"
     ],
     "language": "python",
     "metadata": {},
     "outputs": [],
     "prompt_number": 2
    },
    {
     "cell_type": "code",
     "collapsed": true,
     "input": [
      "from sympy import init_printing\n",
      "init_printing(use_latex=True)"
     ],
     "language": "python",
     "metadata": {},
     "outputs": [],
     "prompt_number": 3
    },
    {
     "cell_type": "code",
     "collapsed": true,
     "input": [
      "from sympy import sqrt, symbols, Rational\n",
      "from sympy import expand, Eq, Symbol, simplify, exp, sin, srepr\n",
      "from sympy.physics.quantum import *\n",
      "from sympy.physics.quantum.qubit import *\n",
      "from sympy.physics.quantum.gate import *\n",
      "from sympy.physics.quantum.grover import *\n",
      "from sympy.physics.quantum.qft import QFT, IQFT, Fourier\n",
      "from sympy.physics.quantum.circuitplot import circuit_plot"
     ],
     "language": "python",
     "metadata": {},
     "outputs": [],
     "prompt_number": 5
    },
    {
     "cell_type": "heading",
     "level": 2,
     "metadata": {},
     "source": [
      "Qubits"
     ]
    },
    {
     "cell_type": "markdown",
     "metadata": {},
     "source": [
      "The state of a set of qubits (Two state systems) is the quantum state that is of interest in Quantum Computing."
     ]
    },
    {
     "cell_type": "code",
     "collapsed": true,
     "input": [
      "alpha, beta = symbols('alpha beta',real=True)"
     ],
     "language": "python",
     "metadata": {},
     "outputs": [],
     "prompt_number": 6
    },
    {
     "cell_type": "code",
     "collapsed": true,
     "input": [
      "psi = alpha*Qubit('00') + beta*Qubit('11'); psi"
     ],
     "language": "python",
     "metadata": {},
     "outputs": [
      {
       "latex": [
        "$$\\alpha {\\left|00\\right\\rangle } + \\beta {\\left|11\\right\\rangle }$$"
       ],
       "metadata": {},
       "output_type": "pyout",
       "png": "[encoded data removed]",
       "prompt_number": 7,
       "text": [
        "\u03b1\u22c5\u275800\u27e9 + \u03b2\u22c5\u275811\u27e9"
       ]
      }
     ],
     "prompt_number": 7
    },
    {
     "cell_type": "code",
     "collapsed": true,
     "input": [
      "Dagger(psi)"
     ],
     "language": "python",
     "metadata": {},
     "outputs": [
      {
       "latex": [
        "$$\\alpha {\\left\\langle 00\\right|} + \\beta {\\left\\langle 11\\right|}$$"
       ],
       "metadata": {},
       "output_type": "pyout",
       "png": "[encoded data removed]",
       "prompt_number": 8,
       "text": [
        "\u03b1\u22c5\u27e800\u2758 + \u03b2\u22c5\u27e811\u2758"
       ]
      }
     ],
     "prompt_number": 8
    },
    {
     "cell_type": "code",
     "collapsed": true,
     "input": [
      "qapply(Dagger(Qubit('00'))*psi)"
     ],
     "language": "python",
     "metadata": {},
     "outputs": [
      {
       "latex": [
        "$$\\alpha$$"
       ],
       "metadata": {},
       "output_type": "pyout",
       "png": "[encoded data removed]",
       "prompt_number": 9,
       "text": [
        "\u03b1"
       ]
      }
     ],
     "prompt_number": 9
    },
    {
     "cell_type": "markdown",
     "metadata": {},
     "source": [
      "SymPy supports many different types of measurements."
     ]
    },
    {
     "cell_type": "code",
     "collapsed": true,
     "input": [
      "for state, prob in measure_all(psi):\n",
      "    display(state)\n",
      "    display(prob)"
     ],
     "language": "python",
     "metadata": {},
     "outputs": [
      {
       "latex": [
        "$${\\left|00\\right\\rangle }$$"
       ],
       "metadata": {},
       "output_type": "display_data",
       "png": "[encoded data removed]",
       "text": [
        "\u275800\u27e9"
       ]
      },
      {
       "latex": [
        "$$\\frac{\\alpha^{2} \\overline{\\frac{1}{\\sqrt{\\alpha^{2} + \\beta^{2}}}}}{\\sqrt{\\alpha^{2} + \\beta^{2}}}$$"
       ],
       "metadata": {},
       "output_type": "display_data",
       "png": "[encoded data removed]",
       "text": [
        "   ____________\n",
        " 2      1      \n",
        "\u03b1 \u22c5\u2500\u2500\u2500\u2500\u2500\u2500\u2500\u2500\u2500\u2500\u2500\u2500\n",
        "      _________\n",
        "     \u2571  2    2 \n",
        "   \u2572\u2571  \u03b1  + \u03b2  \n",
        "\u2500\u2500\u2500\u2500\u2500\u2500\u2500\u2500\u2500\u2500\u2500\u2500\u2500\u2500\u2500\n",
        "     _________ \n",
        "    \u2571  2    2  \n",
        "  \u2572\u2571  \u03b1  + \u03b2   "
       ]
      },
      {
       "latex": [
        "$${\\left|11\\right\\rangle }$$"
       ],
       "metadata": {},
       "output_type": "display_data",
       "png": "[encoded data removed]",
       "text": [
        "\u275811\u27e9"
       ]
      },
      {
       "latex": [
        "$$\\frac{\\beta^{2} \\overline{\\frac{1}{\\sqrt{\\alpha^{2} + \\beta^{2}}}}}{\\sqrt{\\alpha^{2} + \\beta^{2}}}$$"
       ],
       "metadata": {},
       "output_type": "display_data",
       "png": "[encoded data removed]",
       "text": [
        "   ____________\n",
        " 2      1      \n",
        "\u03b2 \u22c5\u2500\u2500\u2500\u2500\u2500\u2500\u2500\u2500\u2500\u2500\u2500\u2500\n",
        "      _________\n",
        "     \u2571  2    2 \n",
        "   \u2572\u2571  \u03b1  + \u03b2  \n",
        "\u2500\u2500\u2500\u2500\u2500\u2500\u2500\u2500\u2500\u2500\u2500\u2500\u2500\u2500\u2500\n",
        "     _________ \n",
        "    \u2571  2    2  \n",
        "  \u2572\u2571  \u03b1  + \u03b2   "
       ]
      }
     ],
     "prompt_number": 10
    },
    {
     "cell_type": "markdown",
     "metadata": {},
     "source": [
      "Qubits can be represented in the computational basis."
     ]
    },
    {
     "cell_type": "code",
     "collapsed": true,
     "input": [
      "represent(psi)"
     ],
     "language": "python",
     "metadata": {},
     "outputs": [
      {
       "latex": [
        "$$\\left[\\begin{matrix}\\alpha\\\\0\\\\0\\\\\\beta\\end{matrix}\\right]$$"
       ],
       "metadata": {},
       "output_type": "pyout",
       "png": "[encoded data removed]",
       "prompt_number": 17,
       "text": [
        "\u23a1\u03b1\u23a4\n",
        "\u23a2 \u23a5\n",
        "\u23a20\u23a5\n",
        "\u23a2 \u23a5\n",
        "\u23a20\u23a5\n",
        "\u23a2 \u23a5\n",
        "\u23a3\u03b2\u23a6"
       ]
      }
     ],
     "prompt_number": 17
    },
    {
     "cell_type": "heading",
     "level": 2,
     "metadata": {},
     "source": [
      "Gates"
     ]
    },
    {
     "cell_type": "markdown",
     "metadata": {},
     "source": [
      "Gate objects are the operators which act on a quantum state."
     ]
    },
    {
     "cell_type": "code",
     "collapsed": true,
     "input": [
      "g = X(0); g"
     ],
     "language": "python",
     "metadata": {},
     "outputs": [
      {
       "latex": [
        "$$X_{0}$$"
       ],
       "metadata": {},
       "output_type": "pyout",
       "png": "[encoded data removed]",
       "prompt_number": 18,
       "text": [
        "X \n",
        " 0"
       ]
      }
     ],
     "prompt_number": 18
    },
    {
     "cell_type": "code",
     "collapsed": true,
     "input": [
      "represent(g, nqubits=2)"
     ],
     "language": "python",
     "metadata": {},
     "outputs": [
      {
       "latex": [
        "$$\\left[\\begin{matrix}0 & 1 & 0 & 0\\\\1 & 0 & 0 & 0\\\\0 & 0 & 0 & 1\\\\0 & 0 & 1 & 0\\end{matrix}\\right]$$"
       ],
       "metadata": {},
       "output_type": "pyout",
       "png": "[encoded data removed]",
       "prompt_number": 19,
       "text": [
        "\u23a10  1  0  0\u23a4\n",
        "\u23a2          \u23a5\n",
        "\u23a21  0  0  0\u23a5\n",
        "\u23a2          \u23a5\n",
        "\u23a20  0  0  1\u23a5\n",
        "\u23a2          \u23a5\n",
        "\u23a30  0  1  0\u23a6"
       ]
      }
     ],
     "prompt_number": 19
    },
    {
     "cell_type": "code",
     "collapsed": true,
     "input": [
      "c = H(0)*Qubit('00'); c"
     ],
     "language": "python",
     "metadata": {},
     "outputs": [
      {
       "latex": [
        "$$H_{0} {\\left|00\\right\\rangle }$$"
       ],
       "metadata": {},
       "output_type": "pyout",
       "png": "[encoded data removed]",
       "prompt_number": 20,
       "text": [
        "H \u22c5\u275800\u27e9\n",
        " 0     "
       ]
      }
     ],
     "prompt_number": 20
    },
    {
     "cell_type": "code",
     "collapsed": true,
     "input": [
      "qapply(c)"
     ],
     "language": "python",
     "metadata": {},
     "outputs": [
      {
       "latex": [
        "$$\\frac{\\sqrt{2}}{2} {\\left|00\\right\\rangle } + \\frac{\\sqrt{2}}{2} {\\left|01\\right\\rangle }$$"
       ],
       "metadata": {},
       "output_type": "pyout",
       "png": "[encoded data removed]",
       "prompt_number": 21,
       "text": [
        "  ___          ___     \n",
        "\u2572\u2571 2 \u22c5\u275800\u27e9   \u2572\u2571 2 \u22c5\u275801\u27e9\n",
        "\u2500\u2500\u2500\u2500\u2500\u2500\u2500\u2500\u2500\u2500 + \u2500\u2500\u2500\u2500\u2500\u2500\u2500\u2500\u2500\u2500\n",
        "    2            2     "
       ]
      }
     ],
     "prompt_number": 21
    },
    {
     "cell_type": "code",
     "collapsed": true,
     "input": [
      "for gate in [H,X,Y,Z,S,T]:\n",
      "    for state in [Qubit('0'),Qubit('1')]:\n",
      "        lhs = gate(0)*state\n",
      "        rhs = qapply(lhs)\n",
      "        display(Eq(lhs,rhs))"
     ],
     "language": "python",
     "metadata": {},
     "outputs": [
      {
       "latex": [
        "$$H_{0} {\\left|0\\right\\rangle } = \\frac{\\sqrt{2}}{2} {\\left|0\\right\\rangle } + \\frac{\\sqrt{2}}{2} {\\left|1\\right\\rangle }$$"
       ],
       "metadata": {},
       "output_type": "display_data",
       "png": "[encoded data removed]",
       "text": [
        "           ___         ___    \n",
        "         \u2572\u2571 2 \u22c5\u27580\u27e9   \u2572\u2571 2 \u22c5\u27581\u27e9\n",
        "H \u22c5\u27580\u27e9 = \u2500\u2500\u2500\u2500\u2500\u2500\u2500\u2500\u2500 + \u2500\u2500\u2500\u2500\u2500\u2500\u2500\u2500\u2500\n",
        " 0           2           2    "
       ]
      },
      {
       "latex": [
        "$$H_{0} {\\left|1\\right\\rangle } = \\frac{\\sqrt{2}}{2} {\\left|0\\right\\rangle } - \\frac{\\sqrt{2}}{2} {\\left|1\\right\\rangle }$$"
       ],
       "metadata": {},
       "output_type": "display_data",
       "png": "[encoded data removed]",
       "text": [
        "           ___         ___    \n",
        "         \u2572\u2571 2 \u22c5\u27580\u27e9   \u2572\u2571 2 \u22c5\u27581\u27e9\n",
        "H \u22c5\u27581\u27e9 = \u2500\u2500\u2500\u2500\u2500\u2500\u2500\u2500\u2500 - \u2500\u2500\u2500\u2500\u2500\u2500\u2500\u2500\u2500\n",
        " 0           2           2    "
       ]
      },
      {
       "latex": [
        "$$X_{0} {\\left|0\\right\\rangle } = {\\left|1\\right\\rangle }$$"
       ],
       "metadata": {},
       "output_type": "display_data",
       "png": "[encoded data removed]",
       "text": [
        "X \u22c5\u27580\u27e9 = \u27581\u27e9\n",
        " 0          "
       ]
      },
      {
       "latex": [
        "$$X_{0} {\\left|1\\right\\rangle } = {\\left|0\\right\\rangle }$$"
       ],
       "metadata": {},
       "output_type": "display_data",
       "png": "[encoded data removed]",
       "text": [
        "X \u22c5\u27581\u27e9 = \u27580\u27e9\n",
        " 0          "
       ]
      },
      {
       "latex": [
        "$$Y_{0} {\\left|0\\right\\rangle } = i {\\left|1\\right\\rangle }$$"
       ],
       "metadata": {},
       "output_type": "display_data",
       "png": "[encoded data removed]",
       "text": [
        "Y \u22c5\u27580\u27e9 = \u2148\u22c5\u27581\u27e9\n",
        " 0            "
       ]
      },
      {
       "latex": [
        "$$Y_{0} {\\left|1\\right\\rangle } = - i {\\left|0\\right\\rangle }$$"
       ],
       "metadata": {},
       "output_type": "display_data",
       "png": "[encoded data removed]",
       "text": [
        "Y \u22c5\u27581\u27e9 = -\u2148\u22c5\u27580\u27e9\n",
        " 0             "
       ]
      },
      {
       "latex": [
        "$$Z_{0} {\\left|0\\right\\rangle } = {\\left|0\\right\\rangle }$$"
       ],
       "metadata": {},
       "output_type": "display_data",
       "png": "[encoded data removed]",
       "text": [
        "Z \u22c5\u27580\u27e9 = \u27580\u27e9\n",
        " 0          "
       ]
      },
      {
       "latex": [
        "$$Z_{0} {\\left|1\\right\\rangle } = - {\\left|1\\right\\rangle }$$"
       ],
       "metadata": {},
       "output_type": "display_data",
       "png": "[encoded data removed]",
       "text": [
        "Z \u22c5\u27581\u27e9 = -\u27581\u27e9\n",
        " 0           "
       ]
      },
      {
       "latex": [
        "$$S_{0} {\\left|0\\right\\rangle } = {\\left|0\\right\\rangle }$$"
       ],
       "metadata": {},
       "output_type": "display_data",
       "png": "[encoded data removed]",
       "text": [
        "S \u22c5\u27580\u27e9 = \u27580\u27e9\n",
        " 0          "
       ]
      },
      {
       "latex": [
        "$$S_{0} {\\left|1\\right\\rangle } = i {\\left|1\\right\\rangle }$$"
       ],
       "metadata": {},
       "output_type": "display_data",
       "png": "[encoded data removed]",
       "text": [
        "S \u22c5\u27581\u27e9 = \u2148\u22c5\u27581\u27e9\n",
        " 0            "
       ]
      },
      {
       "latex": [
        "$$T_{0} {\\left|0\\right\\rangle } = {\\left|0\\right\\rangle }$$"
       ],
       "metadata": {},
       "output_type": "display_data",
       "png": "[encoded data removed]",
       "text": [
        "T \u22c5\u27580\u27e9 = \u27580\u27e9\n",
        " 0          "
       ]
      },
      {
       "latex": [
        "$$T_{0} {\\left|1\\right\\rangle } = e^{\\frac{i \\pi}{4}} {\\left|1\\right\\rangle }$$"
       ],
       "metadata": {},
       "output_type": "display_data",
       "png": "[encoded data removed]",
       "text": [
        "          \u2148\u22c5\u03c0    \n",
        "          \u2500\u2500\u2500    \n",
        "           4     \n",
        "T \u22c5\u27581\u27e9 = \u212f   \u22c5\u27581\u27e9\n",
        " 0               "
       ]
      }
     ],
     "prompt_number": 22
    },
    {
     "cell_type": "markdown",
     "metadata": {},
     "source": [
      "<h2>Symbolic gate rules and circuit simplification</h2>"
     ]
    },
    {
     "cell_type": "code",
     "collapsed": true,
     "input": [
      "for g1 in (Y,Z,H):\n",
      "    for g2 in (Y,Z,H):\n",
      "        e = Commutator(g1(0),g2(0))\n",
      "        if g1 != g2:\n",
      "            display(Eq(e,e.doit()))"
     ],
     "language": "python",
     "metadata": {},
     "outputs": [
      {
       "latex": [
        "$$\\left[Y_{0},Z_{0}\\right] = 2 i X_{0}$$"
       ],
       "metadata": {},
       "output_type": "display_data",
       "png": "[encoded data removed]",
       "text": [
        "\u23a1Y ,Z \u23a4 = 2\u22c5\u2148\u22c5X \n",
        "\u23a3 0  0\u23a6        0"
       ]
      },
      {
       "latex": [
        "$$- \\left[H_{0},Y_{0}\\right] = - \\sqrt{2} i \\left(- X_{0} + Z_{0}\\right)$$"
       ],
       "metadata": {},
       "output_type": "display_data",
       "png": "[encoded data removed]",
       "text": [
        "              ___              \n",
        "-\u23a1H ,Y \u23a4 = -\u2572\u2571 2 \u22c5\u2148\u22c5\u239b- X  + Z \u239e\n",
        " \u23a3 0  0\u23a6            \u239d   0    0\u23a0"
       ]
      },
      {
       "latex": [
        "$$- \\left[Y_{0},Z_{0}\\right] = - 2 i X_{0}$$"
       ],
       "metadata": {},
       "output_type": "display_data",
       "png": "[encoded data removed]",
       "text": [
        "-\u23a1Y ,Z \u23a4 = -2\u22c5\u2148\u22c5X \n",
        " \u23a3 0  0\u23a6         0"
       ]
      },
      {
       "latex": [
        "$$- \\left[H_{0},Z_{0}\\right] = \\sqrt{2} i Y_{0}$$"
       ],
       "metadata": {},
       "output_type": "display_data",
       "png": "[encoded data removed]",
       "text": [
        "             ___     \n",
        "-\u23a1H ,Z \u23a4 = \u2572\u2571 2 \u22c5\u2148\u22c5Y \n",
        " \u23a3 0  0\u23a6            0"
       ]
      },
      {
       "latex": [
        "$$\\left[H_{0},Y_{0}\\right] = \\sqrt{2} i \\left(- X_{0} + Z_{0}\\right)$$"
       ],
       "metadata": {},
       "output_type": "display_data",
       "png": "[encoded data removed]",
       "text": [
        "            ___              \n",
        "\u23a1H ,Y \u23a4 = \u2572\u2571 2 \u22c5\u2148\u22c5\u239b- X  + Z \u239e\n",
        "\u23a3 0  0\u23a6           \u239d   0    0\u23a0"
       ]
      },
      {
       "latex": [
        "$$\\left[H_{0},Z_{0}\\right] = - \\sqrt{2} i Y_{0}$$"
       ],
       "metadata": {},
       "output_type": "display_data",
       "png": "[encoded data removed]",
       "text": [
        "             ___     \n",
        "\u23a1H ,Z \u23a4 = -\u2572\u2571 2 \u22c5\u2148\u22c5Y \n",
        "\u23a3 0  0\u23a6             0"
       ]
      }
     ],
     "prompt_number": 23
    },
    {
     "cell_type": "code",
     "collapsed": true,
     "input": [
      "c = H(0)*X(1)*H(0)**2*CNOT(0,1)*X(1)**3*X(0)*Z(1)**2; c"
     ],
     "language": "python",
     "metadata": {},
     "outputs": [
      {
       "latex": [
        "$$H_{0} X_{1} CNOT_{0,1} X_{1} X_{0}$$"
       ],
       "metadata": {},
       "output_type": "pyout",
       "png": "[encoded data removed]",
       "prompt_number": 24,
       "text": [
        "H \u22c5X \u22c5CNOT   \u22c5X \u22c5X \n",
        " 0  1     0,1  1  0"
       ]
      }
     ],
     "prompt_number": 24
    },
    {
     "cell_type": "code",
     "collapsed": true,
     "input": [
      "circuit_plot(c, nqubits=2)"
     ],
     "language": "python",
     "metadata": {},
     "outputs": [
      {
       "metadata": {},
       "output_type": "pyout",
       "prompt_number": 25,
       "text": [
        "<sympy.physics.quantum.circuitplot.CircuitPlot at 0x104ebe8d0>"
       ]
      },
      {
       "metadata": {},
       "output_type": "display_data",
       "png": "[encoded data removed]",
       "text": [
        "<matplotlib.figure.Figure at 0x1050f1f10>"
       ]
      }
     ],
     "prompt_number": 25
    },
    {
     "cell_type": "markdown",
     "metadata": {},
     "source": [
      "This performs a commutator/anticommutator aware bubble sort algorithm to simplify a circuit."
     ]
    },
    {
     "cell_type": "code",
     "collapsed": true,
     "input": [
      "gate_simp(c)"
     ],
     "language": "python",
     "metadata": {},
     "outputs": [
      {
       "latex": [
        "$$H_{0} CNOT_{0,1} X_{0}$$"
       ],
       "metadata": {},
       "output_type": "pyout",
       "png": "[encoded data removed]",
       "prompt_number": 26,
       "text": [
        "H \u22c5CNOT   \u22c5X \n",
        " 0     0,1  0"
       ]
      }
     ],
     "prompt_number": 26
    },
    {
     "cell_type": "code",
     "collapsed": true,
     "input": [
      "circuit_plot(gate_simp(c),nqubits=2)"
     ],
     "language": "python",
     "metadata": {},
     "outputs": [
      {
       "metadata": {},
       "output_type": "pyout",
       "prompt_number": 27,
       "text": [
        "<sympy.physics.quantum.circuitplot.CircuitPlot at 0x1051892d0>"
       ]
      },
      {
       "metadata": {},
       "output_type": "display_data",
       "png": "[encoded data removed]",
       "text": [
        "<matplotlib.figure.Figure at 0x10195f710>"
       ]
      }
     ],
     "prompt_number": 27
    },
    {
     "cell_type": "code",
     "collapsed": false,
     "input": [],
     "language": "python",
     "metadata": {},
     "outputs": []
    }
   ],
   "metadata": {}
  }
 ]
}