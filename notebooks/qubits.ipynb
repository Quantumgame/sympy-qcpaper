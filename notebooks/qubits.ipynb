{
 "metadata": {
  "name": "qubits"
 }, 
 "nbformat": 2, 
 "worksheets": [
  {
   "cells": [
    {
     "cell_type": "markdown", 
     "source": [
      "<h1>Symbolic Quantum Computing</h1>"
     ]
    }, 
    {
     "cell_type": "code", 
     "collapsed": true, 
     "input": [
      "%load_ext sympyprinting"
     ], 
     "language": "python", 
     "outputs": [], 
     "prompt_number": 1
    }, 
    {
     "cell_type": "code", 
     "collapsed": true, 
     "input": [
      "from sympy import sqrt, symbols, Rational", 
      "from sympy import expand, Eq, Symbol, simplify, exp, sin", 
      "from sympy.physics.quantum import *", 
      "from sympy.physics.quantum.qubit import *", 
      "from sympy.physics.quantum.gate import *", 
      "from sympy.physics.quantum.grover import *", 
      "from sympy.physics.quantum.qft import QFT, IQFT, Fourier", 
      "from sympy.physics.quantum.circuitplot import circuit_plot"
     ], 
     "language": "python", 
     "outputs": [], 
     "prompt_number": 2
    }, 
    {
     "cell_type": "markdown", 
     "source": [
      "<h2>Qubits</h2>"
     ]
    }, 
    {
     "cell_type": "markdown", 
     "source": [
      "The state of a set of qubits (Two state systems) is the quantum state that is of interest in Quantum Computing."
     ]
    }, 
    {
     "cell_type": "code", 
     "collapsed": true, 
     "input": [
      "alpha, beta = symbols('alpha beta',real=True)"
     ], 
     "language": "python", 
     "outputs": [], 
     "prompt_number": 3
    }, 
    {
     "cell_type": "code", 
     "collapsed": true, 
     "input": [
      "psi = alpha*Qubit('00') + beta*Qubit('11'); psi"
     ], 
     "language": "python", 
     "outputs": [], 
     "prompt_number": 4
    }, 
    {
     "cell_type": "code", 
     "collapsed": true, 
     "input": [
      "Dagger(psi)"
     ], 
     "language": "python", 
     "outputs": [], 
     "prompt_number": 5
    }, 
    {
     "cell_type": "code", 
     "collapsed": true, 
     "input": [
      "qapply(Dagger(Qubit('00'))*psi)"
     ], 
     "language": "python", 
     "outputs": [], 
     "prompt_number": 6
    }, 
    {
     "cell_type": "markdown", 
     "source": [
      "SymPy supports many different types of measurements."
     ]
    }, 
    {
     "cell_type": "code", 
     "collapsed": true, 
     "input": [
      "for state, prob in measure_all(psi):", 
      "    display(state)", 
      "    display(prob)"
     ], 
     "language": "python", 
     "outputs": [], 
     "prompt_number": 7
    }, 
    {
     "cell_type": "markdown", 
     "source": [
      "Qubits can be represented in the computational basis."
     ]
    }, 
    {
     "cell_type": "code", 
     "collapsed": true, 
     "input": [
      "represent(psi)"
     ], 
     "language": "python", 
     "outputs": [], 
     "prompt_number": 8
    }, 
    {
     "cell_type": "markdown", 
     "source": [
      "<h2>Gates</h2>"
     ]
    }, 
    {
     "cell_type": "markdown", 
     "source": [
      "Gate objects are the operators which act on a quantum state."
     ]
    }, 
    {
     "cell_type": "code", 
     "collapsed": true, 
     "input": [
      "g = X(0); g"
     ], 
     "language": "python", 
     "outputs": [], 
     "prompt_number": 9
    }, 
    {
     "cell_type": "code", 
     "collapsed": true, 
     "input": [
      "represent(g, nqubits=2)"
     ], 
     "language": "python", 
     "outputs": [], 
     "prompt_number": 10
    }, 
    {
     "cell_type": "code", 
     "collapsed": true, 
     "input": [
      "c = H(0)*Qubit('00'); c"
     ], 
     "language": "python", 
     "outputs": [], 
     "prompt_number": 11
    }, 
    {
     "cell_type": "code", 
     "collapsed": true, 
     "input": [
      "qapply(c)"
     ], 
     "language": "python", 
     "outputs": [], 
     "prompt_number": 12
    }, 
    {
     "cell_type": "code", 
     "collapsed": true, 
     "input": [
      "for gate in [H,X,Y,Z,S,T]:", 
      "    for state in [Qubit('0'),Qubit('1')]:", 
      "        lhs = gate(0)*state", 
      "        rhs = qapply(lhs)", 
      "        display(Eq(lhs,rhs))"
     ], 
     "language": "python", 
     "outputs": [], 
     "prompt_number": 13
    }, 
    {
     "cell_type": "markdown", 
     "source": [
      "<h2>Symbolic gate rules and circuit simplification</h2>"
     ]
    }, 
    {
     "cell_type": "code", 
     "collapsed": true, 
     "input": [
      "for g1 in (Y,Z,H):", 
      "    for g2 in (Y,Z,H):", 
      "        e = Commutator(g1(0),g2(0))", 
      "        if g1 != g2:", 
      "            display(Eq(e,e.doit()))"
     ], 
     "language": "python", 
     "outputs": [], 
     "prompt_number": 14
    }, 
    {
     "cell_type": "code", 
     "collapsed": true, 
     "input": [
      "c = H(0)*X(1)*H(0)**2*CNOT(0,1)*X(1)**3*X(0)*Z(1)**2; c"
     ], 
     "language": "python", 
     "outputs": [], 
     "prompt_number": 15
    }, 
    {
     "cell_type": "code", 
     "collapsed": true, 
     "input": [
      "circuit_plot(c, nqubits=2)"
     ], 
     "language": "python", 
     "outputs": [], 
     "prompt_number": 16
    }, 
    {
     "cell_type": "markdown", 
     "source": [
      "This performs a commutator/anticommutator aware bubble sort algorithm to simplify a circuit."
     ]
    }, 
    {
     "cell_type": "code", 
     "collapsed": true, 
     "input": [
      "gate_simp(c)"
     ], 
     "language": "python", 
     "outputs": [], 
     "prompt_number": 17
    }, 
    {
     "cell_type": "code", 
     "collapsed": true, 
     "input": [
      "circuit_plot(gate_simp(c),nqubits=2)"
     ], 
     "language": "python", 
     "outputs": [], 
     "prompt_number": 18
    }, 
    {
     "cell_type": "code", 
     "collapsed": true, 
     "input": [
      "%notebook save quantum_computing.ipynb"
     ], 
     "language": "python", 
     "outputs": [], 
     "prompt_number": 35
    }, 
    {
     "cell_type": "code", 
     "collapsed": true, 
     "input": [
      "%notebook load grovers.ipynb"
     ], 
     "language": "python", 
     "outputs": [], 
     "prompt_number": 90
    }
   ]
  }
 ]
}