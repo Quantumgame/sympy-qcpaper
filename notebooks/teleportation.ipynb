{
 "metadata": {
  "name": ""
 },
 "nbformat": 3,
 "nbformat_minor": 0,
 "worksheets": [
  {
   "cells": [
    {
     "cell_type": "heading",
     "level": 1,
     "metadata": {},
     "source": [
      "Teleportation"
     ]
    },
    {
     "cell_type": "code",
     "collapsed": false,
     "input": [
      "%pylab inline"
     ],
     "language": "python",
     "metadata": {},
     "outputs": [
      {
       "output_type": "stream",
       "stream": "stdout",
       "text": [
        "Populating the interactive namespace from numpy and matplotlib\n"
       ]
      }
     ],
     "prompt_number": 3
    },
    {
     "cell_type": "code",
     "collapsed": true,
     "input": [
      "from sympy import init_printing\n",
      "init_printing(use_latex=True)"
     ],
     "language": "python",
     "metadata": {},
     "outputs": [],
     "prompt_number": 4
    },
    {
     "cell_type": "code",
     "collapsed": true,
     "input": [
      "from sympy import sqrt, symbols, Rational\n",
      "from sympy import expand, Eq, Symbol, simplify, exp, sin\n",
      "from sympy.physics.quantum import *\n",
      "from sympy.physics.quantum.qubit import *\n",
      "from sympy.physics.quantum.gate import *\n",
      "from sympy.physics.quantum.grover import *\n",
      "from sympy.physics.quantum.qft import QFT, IQFT, Fourier\n",
      "from sympy.physics.quantum.circuitplot import circuit_plot"
     ],
     "language": "python",
     "metadata": {},
     "outputs": [],
     "prompt_number": 5
    },
    {
     "cell_type": "code",
     "collapsed": true,
     "input": [
      "a,b = symbols('a b', real=True)\n",
      "state = Qubit('000')*a + Qubit('001')*b; state"
     ],
     "language": "python",
     "metadata": {},
     "outputs": [
      {
       "latex": [
        "$$a {\\left|000\\right\\rangle } + b {\\left|001\\right\\rangle }$$"
       ],
       "metadata": {},
       "output_type": "pyout",
       "png": "[encoded data removed]",
       "prompt_number": 7,
       "text": [
        "a\u22c5\u2758000\u27e9 + b\u22c5\u2758001\u27e9"
       ]
      }
     ],
     "prompt_number": 7
    },
    {
     "cell_type": "code",
     "collapsed": true,
     "input": [
      "entangle1_2 = CNOT(1,2)*HadamardGate(1); entangle1_2"
     ],
     "language": "python",
     "metadata": {},
     "outputs": [
      {
       "latex": [
        "$$CNOT_{1,2} H_{1}$$"
       ],
       "metadata": {},
       "output_type": "pyout",
       "png": "[encoded data removed]",
       "prompt_number": 8,
       "text": [
        "CNOT   \u22c5H \n",
        "    1,2  1"
       ]
      }
     ],
     "prompt_number": 8
    },
    {
     "cell_type": "code",
     "collapsed": true,
     "input": [
      "state = qapply(entangle1_2*state); state"
     ],
     "language": "python",
     "metadata": {},
     "outputs": [
      {
       "latex": [
        "$$\\frac{\\sqrt{2} a}{2} {\\left|000\\right\\rangle } + \\frac{\\sqrt{2} a}{2} {\\left|110\\right\\rangle } + \\frac{\\sqrt{2} b}{2} {\\left|001\\right\\rangle } + \\frac{\\sqrt{2} b}{2} {\\left|111\\right\\rangle }$$"
       ],
       "metadata": {},
       "output_type": "pyout",
       "png": "[encoded data removed]",
       "prompt_number": 9,
       "text": [
        "  ___             ___             ___             ___        \n",
        "\u2572\u2571 2 \u22c5a\u22c5\u2758000\u27e9   \u2572\u2571 2 \u22c5a\u22c5\u2758110\u27e9   \u2572\u2571 2 \u22c5b\u22c5\u2758001\u27e9   \u2572\u2571 2 \u22c5b\u22c5\u2758111\u27e9\n",
        "\u2500\u2500\u2500\u2500\u2500\u2500\u2500\u2500\u2500\u2500\u2500\u2500\u2500 + \u2500\u2500\u2500\u2500\u2500\u2500\u2500\u2500\u2500\u2500\u2500\u2500\u2500 + \u2500\u2500\u2500\u2500\u2500\u2500\u2500\u2500\u2500\u2500\u2500\u2500\u2500 + \u2500\u2500\u2500\u2500\u2500\u2500\u2500\u2500\u2500\u2500\u2500\u2500\u2500\n",
        "      2               2               2               2      "
       ]
      }
     ],
     "prompt_number": 9
    },
    {
     "cell_type": "code",
     "collapsed": true,
     "input": [
      "entangle0_1 = HadamardGate(0)*CNOT(0,1); entangle0_1"
     ],
     "language": "python",
     "metadata": {},
     "outputs": [
      {
       "latex": [
        "$$H_{0} CNOT_{0,1}$$"
       ],
       "metadata": {},
       "output_type": "pyout",
       "png": "[encoded data removed]",
       "prompt_number": 10,
       "text": [
        "H \u22c5CNOT   \n",
        " 0     0,1"
       ]
      }
     ],
     "prompt_number": 10
    },
    {
     "cell_type": "code",
     "collapsed": true,
     "input": [
      "circuit_plot(entangle0_1*entangle1_2, nqubits=3)"
     ],
     "language": "python",
     "metadata": {},
     "outputs": [
      {
       "metadata": {},
       "output_type": "pyout",
       "prompt_number": 11,
       "text": [
        "<sympy.physics.quantum.circuitplot.CircuitPlot at 0x1064c1a50>"
       ]
      },
      {
       "metadata": {},
       "output_type": "display_data",
       "png": "[encoded data removed]",
       "text": [
        "<matplotlib.figure.Figure at 0x1064cf850>"
       ]
      }
     ],
     "prompt_number": 11
    },
    {
     "cell_type": "code",
     "collapsed": true,
     "input": [
      "state = qapply(entangle0_1*state); state"
     ],
     "language": "python",
     "metadata": {},
     "outputs": [
      {
       "latex": [
        "$$\\frac{a}{2} {\\left|000\\right\\rangle } + \\frac{a}{2} {\\left|001\\right\\rangle } + \\frac{a}{2} {\\left|110\\right\\rangle } + \\frac{a}{2} {\\left|111\\right\\rangle } + \\frac{b}{2} {\\left|010\\right\\rangle } - \\frac{b}{2} {\\left|011\\right\\rangle } + \\frac{b}{2} {\\left|100\\right\\rangle } - \\frac{b}{2} {\\left|101\\right\\rangle }$$"
       ],
       "metadata": {},
       "output_type": "pyout",
       "png": "[encoded data removed]",
       "prompt_number": 12,
       "text": [
        "a\u22c5\u2758000\u27e9   a\u22c5\u2758001\u27e9   a\u22c5\u2758110\u27e9   a\u22c5\u2758111\u27e9   b\u22c5\u2758010\u27e9   b\u22c5\u2758011\u27e9   b\u22c5\u2758100\u27e9   b\u22c5\u2758101\u27e9\n",
        "\u2500\u2500\u2500\u2500\u2500\u2500\u2500 + \u2500\u2500\u2500\u2500\u2500\u2500\u2500 + \u2500\u2500\u2500\u2500\u2500\u2500\u2500 + \u2500\u2500\u2500\u2500\u2500\u2500\u2500 + \u2500\u2500\u2500\u2500\u2500\u2500\u2500 - \u2500\u2500\u2500\u2500\u2500\u2500\u2500 + \u2500\u2500\u2500\u2500\u2500\u2500\u2500 - \u2500\u2500\u2500\u2500\u2500\u2500\u2500\n",
        "   2         2         2         2         2         2         2         2   "
       ]
      }
     ],
     "prompt_number": 12
    },
    {
     "cell_type": "code",
     "collapsed": true,
     "input": [
      "result = measure_partial(state, (0,1))"
     ],
     "language": "python",
     "metadata": {},
     "outputs": [],
     "prompt_number": 13
    },
    {
     "cell_type": "code",
     "collapsed": true,
     "input": [
      "state = (result[2][0]*2).expand(); state"
     ],
     "language": "python",
     "metadata": {},
     "outputs": [
      {
       "latex": [
        "$$\\frac{a {\\left|110\\right\\rangle }}{\\sqrt{a^{2} + b^{2}} \\sqrt{\\frac{1}{4} \\left\\lvert{\\frac{a}{\\sqrt{a^{2} + b^{2}}}}\\right\\rvert^{2} + \\frac{1}{4} \\left\\lvert{\\frac{b}{\\sqrt{a^{2} + b^{2}}}}\\right\\rvert^{2}}} + \\frac{b {\\left|010\\right\\rangle }}{\\sqrt{a^{2} + b^{2}} \\sqrt{\\frac{1}{4} \\left\\lvert{\\frac{a}{\\sqrt{a^{2} + b^{2}}}}\\right\\rvert^{2} + \\frac{1}{4} \\left\\lvert{\\frac{b}{\\sqrt{a^{2} + b^{2}}}}\\right\\rvert^{2}}}$$"
       ],
       "metadata": {},
       "output_type": "pyout",
       "png": "[encoded data removed]",
       "prompt_number": 14,
       "text": [
        "                         a\u22c5\u2758110\u27e9                                              \n",
        "\u2500\u2500\u2500\u2500\u2500\u2500\u2500\u2500\u2500\u2500\u2500\u2500\u2500\u2500\u2500\u2500\u2500\u2500\u2500\u2500\u2500\u2500\u2500\u2500\u2500\u2500\u2500\u2500\u2500\u2500\u2500\u2500\u2500\u2500\u2500\u2500\u2500\u2500\u2500\u2500\u2500\u2500\u2500\u2500\u2500\u2500\u2500\u2500\u2500\u2500\u2500\u2500\u2500\u2500\u2500\u2500\u2500 + \u2500\u2500\u2500\u2500\u2500\u2500\u2500\u2500\u2500\u2500\u2500\u2500\u2500\u2500\u2500\u2500\u2500\u2500\n",
        "                      ___________________________________                     \n",
        "                     \u2571               2                 2                      \n",
        "                    \u2571  \u2502     a      \u2502    \u2502     b      \u2502                       \n",
        "                   \u2571   \u2502\u2500\u2500\u2500\u2500\u2500\u2500\u2500\u2500\u2500\u2500\u2500\u2500\u2502    \u2502\u2500\u2500\u2500\u2500\u2500\u2500\u2500\u2500\u2500\u2500\u2500\u2500\u2502                       \n",
        "                  \u2571    \u2502   _________\u2502    \u2502   _________\u2502                       \n",
        "   _________     \u2571     \u2502  \u2571  2    2 \u2502    \u2502  \u2571  2    2 \u2502        _________     \u2571\n",
        "  \u2571  2    2     \u2571      \u2502\u2572\u2571  a  + b  \u2502    \u2502\u2572\u2571  a  + b  \u2502       \u2571  2    2     \u2571 \n",
        "\u2572\u2571  a  + b  \u22c5  \u2571       \u2500\u2500\u2500\u2500\u2500\u2500\u2500\u2500\u2500\u2500\u2500\u2500\u2500\u2500\u2500 + \u2500\u2500\u2500\u2500\u2500\u2500\u2500\u2500\u2500\u2500\u2500\u2500\u2500\u2500\u2500    \u2572\u2571  a  + b  \u22c5  \u2571  \n",
        "             \u2572\u2571               4                 4                        \u2572\u2571   \n",
        "\n",
        "       b\u22c5\u2758010\u27e9                         \n",
        "\u2500\u2500\u2500\u2500\u2500\u2500\u2500\u2500\u2500\u2500\u2500\u2500\u2500\u2500\u2500\u2500\u2500\u2500\u2500\u2500\u2500\u2500\u2500\u2500\u2500\u2500\u2500\u2500\u2500\u2500\u2500\u2500\u2500\u2500\u2500\u2500\u2500\u2500\u2500\n",
        "    ___________________________________\n",
        "   \u2571               2                 2 \n",
        "  \u2571  \u2502     a      \u2502    \u2502     b      \u2502  \n",
        " \u2571   \u2502\u2500\u2500\u2500\u2500\u2500\u2500\u2500\u2500\u2500\u2500\u2500\u2500\u2502    \u2502\u2500\u2500\u2500\u2500\u2500\u2500\u2500\u2500\u2500\u2500\u2500\u2500\u2502  \n",
        "\u2571    \u2502   _________\u2502    \u2502   _________\u2502  \n",
        "     \u2502  \u2571  2    2 \u2502    \u2502  \u2571  2    2 \u2502  \n",
        "     \u2502\u2572\u2571  a  + b  \u2502    \u2502\u2572\u2571  a  + b  \u2502  \n",
        "     \u2500\u2500\u2500\u2500\u2500\u2500\u2500\u2500\u2500\u2500\u2500\u2500\u2500\u2500\u2500 + \u2500\u2500\u2500\u2500\u2500\u2500\u2500\u2500\u2500\u2500\u2500\u2500\u2500\u2500\u2500 \n",
        "            4                 4        "
       ]
      }
     ],
     "prompt_number": 14
    },
    {
     "cell_type": "code",
     "collapsed": true,
     "input": [
      "state = qapply(XGate(2)*state); state"
     ],
     "language": "python",
     "metadata": {},
     "outputs": [
      {
       "latex": [
        "$$\\frac{a {\\left|010\\right\\rangle }}{\\sqrt{a^{2} + b^{2}} \\sqrt{\\frac{1}{4} \\left\\lvert{\\frac{a}{\\sqrt{a^{2} + b^{2}}}}\\right\\rvert^{2} + \\frac{1}{4} \\left\\lvert{\\frac{b}{\\sqrt{a^{2} + b^{2}}}}\\right\\rvert^{2}}} + \\frac{b {\\left|110\\right\\rangle }}{\\sqrt{a^{2} + b^{2}} \\sqrt{\\frac{1}{4} \\left\\lvert{\\frac{a}{\\sqrt{a^{2} + b^{2}}}}\\right\\rvert^{2} + \\frac{1}{4} \\left\\lvert{\\frac{b}{\\sqrt{a^{2} + b^{2}}}}\\right\\rvert^{2}}}$$"
       ],
       "metadata": {},
       "output_type": "pyout",
       "png": "[encoded data removed]",
       "prompt_number": 15,
       "text": [
        "                         a\u22c5\u2758010\u27e9                                              \n",
        "\u2500\u2500\u2500\u2500\u2500\u2500\u2500\u2500\u2500\u2500\u2500\u2500\u2500\u2500\u2500\u2500\u2500\u2500\u2500\u2500\u2500\u2500\u2500\u2500\u2500\u2500\u2500\u2500\u2500\u2500\u2500\u2500\u2500\u2500\u2500\u2500\u2500\u2500\u2500\u2500\u2500\u2500\u2500\u2500\u2500\u2500\u2500\u2500\u2500\u2500\u2500\u2500\u2500\u2500\u2500\u2500\u2500 + \u2500\u2500\u2500\u2500\u2500\u2500\u2500\u2500\u2500\u2500\u2500\u2500\u2500\u2500\u2500\u2500\u2500\u2500\n",
        "                      ___________________________________                     \n",
        "                     \u2571               2                 2                      \n",
        "                    \u2571  \u2502     a      \u2502    \u2502     b      \u2502                       \n",
        "                   \u2571   \u2502\u2500\u2500\u2500\u2500\u2500\u2500\u2500\u2500\u2500\u2500\u2500\u2500\u2502    \u2502\u2500\u2500\u2500\u2500\u2500\u2500\u2500\u2500\u2500\u2500\u2500\u2500\u2502                       \n",
        "                  \u2571    \u2502   _________\u2502    \u2502   _________\u2502                       \n",
        "   _________     \u2571     \u2502  \u2571  2    2 \u2502    \u2502  \u2571  2    2 \u2502        _________     \u2571\n",
        "  \u2571  2    2     \u2571      \u2502\u2572\u2571  a  + b  \u2502    \u2502\u2572\u2571  a  + b  \u2502       \u2571  2    2     \u2571 \n",
        "\u2572\u2571  a  + b  \u22c5  \u2571       \u2500\u2500\u2500\u2500\u2500\u2500\u2500\u2500\u2500\u2500\u2500\u2500\u2500\u2500\u2500 + \u2500\u2500\u2500\u2500\u2500\u2500\u2500\u2500\u2500\u2500\u2500\u2500\u2500\u2500\u2500    \u2572\u2571  a  + b  \u22c5  \u2571  \n",
        "             \u2572\u2571               4                 4                        \u2572\u2571   \n",
        "\n",
        "       b\u22c5\u2758110\u27e9                         \n",
        "\u2500\u2500\u2500\u2500\u2500\u2500\u2500\u2500\u2500\u2500\u2500\u2500\u2500\u2500\u2500\u2500\u2500\u2500\u2500\u2500\u2500\u2500\u2500\u2500\u2500\u2500\u2500\u2500\u2500\u2500\u2500\u2500\u2500\u2500\u2500\u2500\u2500\u2500\u2500\n",
        "    ___________________________________\n",
        "   \u2571               2                 2 \n",
        "  \u2571  \u2502     a      \u2502    \u2502     b      \u2502  \n",
        " \u2571   \u2502\u2500\u2500\u2500\u2500\u2500\u2500\u2500\u2500\u2500\u2500\u2500\u2500\u2502    \u2502\u2500\u2500\u2500\u2500\u2500\u2500\u2500\u2500\u2500\u2500\u2500\u2500\u2502  \n",
        "\u2571    \u2502   _________\u2502    \u2502   _________\u2502  \n",
        "     \u2502  \u2571  2    2 \u2502    \u2502  \u2571  2    2 \u2502  \n",
        "     \u2502\u2572\u2571  a  + b  \u2502    \u2502\u2572\u2571  a  + b  \u2502  \n",
        "     \u2500\u2500\u2500\u2500\u2500\u2500\u2500\u2500\u2500\u2500\u2500\u2500\u2500\u2500\u2500 + \u2500\u2500\u2500\u2500\u2500\u2500\u2500\u2500\u2500\u2500\u2500\u2500\u2500\u2500\u2500 \n",
        "            4                 4        "
       ]
      }
     ],
     "prompt_number": 15
    }
   ],
   "metadata": {}
  }
 ]
}