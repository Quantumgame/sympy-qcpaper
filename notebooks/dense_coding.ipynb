{
 "metadata": {
  "name": ""
 },
 "nbformat": 3,
 "nbformat_minor": 0,
 "worksheets": [
  {
   "cells": [
    {
     "cell_type": "heading",
     "level": 1,
     "metadata": {},
     "source": [
      "Dense Coding"
     ]
    },
    {
     "cell_type": "code",
     "collapsed": false,
     "input": [
      "%pylab inline"
     ],
     "language": "python",
     "metadata": {},
     "outputs": [
      {
       "output_type": "stream",
       "stream": "stdout",
       "text": [
        "Populating the interactive namespace from numpy and matplotlib\n"
       ]
      }
     ],
     "prompt_number": 1
    },
    {
     "cell_type": "code",
     "collapsed": true,
     "input": [
      "from sympy import init_printing\n",
      "init_printing(use_latex=True)"
     ],
     "language": "python",
     "metadata": {},
     "outputs": [],
     "prompt_number": 2
    },
    {
     "cell_type": "code",
     "collapsed": true,
     "input": [
      "from sympy import sqrt, symbols, Rational\n",
      "from sympy import expand, Eq, Symbol, simplify, exp, sin\n",
      "from sympy.physics.quantum import *\n",
      "from sympy.physics.quantum.qubit import *\n",
      "from sympy.physics.quantum.gate import *\n",
      "from sympy.physics.quantum.grover import *\n",
      "from sympy.physics.quantum.qft import QFT, IQFT, Fourier\n",
      "from sympy.physics.quantum.circuitplot import circuit_plot"
     ],
     "language": "python",
     "metadata": {},
     "outputs": [],
     "prompt_number": 3
    },
    {
     "cell_type": "code",
     "collapsed": true,
     "input": [
      "psi = Qubit('00')/sqrt(2) + Qubit('11')/sqrt(2); psi"
     ],
     "language": "python",
     "metadata": {},
     "outputs": [
      {
       "latex": [
        "$$\\frac{\\sqrt{2}}{2} {\\left|00\\right\\rangle } + \\frac{\\sqrt{2}}{2} {\\left|11\\right\\rangle }$$"
       ],
       "metadata": {},
       "output_type": "pyout",
       "png": "[encoded data removed]",
       "prompt_number": 4,
       "text": [
        "  ___          ___     \n",
        "\u2572\u2571 2 \u22c5\u275800\u27e9   \u2572\u2571 2 \u22c5\u275811\u27e9\n",
        "\u2500\u2500\u2500\u2500\u2500\u2500\u2500\u2500\u2500\u2500 + \u2500\u2500\u2500\u2500\u2500\u2500\u2500\u2500\u2500\u2500\n",
        "    2            2     "
       ]
      }
     ],
     "prompt_number": 4
    },
    {
     "cell_type": "code",
     "collapsed": true,
     "input": [
      "circuits = [H(1)*CNOT(1,0), H(1)*CNOT(1,0)*X(1), H(1)*CNOT(1,0)*Z(1), H(1)*CNOT(1,0)*Z(1)*X(1)]"
     ],
     "language": "python",
     "metadata": {},
     "outputs": [],
     "prompt_number": 5
    },
    {
     "cell_type": "code",
     "collapsed": true,
     "input": [
      "for circuit in circuits:\n",
      "    circuit_plot(circuit, nqubits=2)\n",
      "    display(Eq(circuit*psi,qapply(circuit*psi)))"
     ],
     "language": "python",
     "metadata": {},
     "outputs": [
      {
       "latex": [
        "$$H_{1} CNOT_{1,0} \\left(\\frac{\\sqrt{2}}{2} {\\left|00\\right\\rangle } + \\frac{\\sqrt{2}}{2} {\\left|11\\right\\rangle }\\right) = {\\left|00\\right\\rangle }$$"
       ],
       "metadata": {},
       "output_type": "display_data",
       "png": "[encoded data removed]",
       "text": [
        "           \u239b  ___          ___     \u239e       \n",
        "           \u239c\u2572\u2571 2 \u22c5\u275800\u27e9   \u2572\u2571 2 \u22c5\u275811\u27e9\u239f       \n",
        "H \u22c5CNOT   \u22c5\u239c\u2500\u2500\u2500\u2500\u2500\u2500\u2500\u2500\u2500\u2500 + \u2500\u2500\u2500\u2500\u2500\u2500\u2500\u2500\u2500\u2500\u239f = \u275800\u27e9\n",
        " 1     1,0 \u239d    2            2     \u23a0       "
       ]
      },
      {
       "latex": [
        "$$H_{1} CNOT_{1,0} X_{1} \\left(\\frac{\\sqrt{2}}{2} {\\left|00\\right\\rangle } + \\frac{\\sqrt{2}}{2} {\\left|11\\right\\rangle }\\right) = {\\left|01\\right\\rangle }$$"
       ],
       "metadata": {},
       "output_type": "display_data",
       "png": "[encoded data removed]",
       "text": [
        "              \u239b  ___          ___     \u239e       \n",
        "              \u239c\u2572\u2571 2 \u22c5\u275800\u27e9   \u2572\u2571 2 \u22c5\u275811\u27e9\u239f       \n",
        "H \u22c5CNOT   \u22c5X \u22c5\u239c\u2500\u2500\u2500\u2500\u2500\u2500\u2500\u2500\u2500\u2500 + \u2500\u2500\u2500\u2500\u2500\u2500\u2500\u2500\u2500\u2500\u239f = \u275801\u27e9\n",
        " 1     1,0  1 \u239d    2            2     \u23a0       "
       ]
      },
      {
       "latex": [
        "$$H_{1} CNOT_{1,0} Z_{1} \\left(\\frac{\\sqrt{2}}{2} {\\left|00\\right\\rangle } + \\frac{\\sqrt{2}}{2} {\\left|11\\right\\rangle }\\right) = {\\left|10\\right\\rangle }$$"
       ],
       "metadata": {},
       "output_type": "display_data",
       "png": "[encoded data removed]",
       "text": [
        "              \u239b  ___          ___     \u239e       \n",
        "              \u239c\u2572\u2571 2 \u22c5\u275800\u27e9   \u2572\u2571 2 \u22c5\u275811\u27e9\u239f       \n",
        "H \u22c5CNOT   \u22c5Z \u22c5\u239c\u2500\u2500\u2500\u2500\u2500\u2500\u2500\u2500\u2500\u2500 + \u2500\u2500\u2500\u2500\u2500\u2500\u2500\u2500\u2500\u2500\u239f = \u275810\u27e9\n",
        " 1     1,0  1 \u239d    2            2     \u23a0       "
       ]
      },
      {
       "latex": [
        "$$H_{1} CNOT_{1,0} Z_{1} X_{1} \\left(\\frac{\\sqrt{2}}{2} {\\left|00\\right\\rangle } + \\frac{\\sqrt{2}}{2} {\\left|11\\right\\rangle }\\right) = {\\left|11\\right\\rangle }$$"
       ],
       "metadata": {},
       "output_type": "display_data",
       "png": "[encoded data removed]",
       "text": [
        "                 \u239b  ___          ___     \u239e       \n",
        "                 \u239c\u2572\u2571 2 \u22c5\u275800\u27e9   \u2572\u2571 2 \u22c5\u275811\u27e9\u239f       \n",
        "H \u22c5CNOT   \u22c5Z \u22c5X \u22c5\u239c\u2500\u2500\u2500\u2500\u2500\u2500\u2500\u2500\u2500\u2500 + \u2500\u2500\u2500\u2500\u2500\u2500\u2500\u2500\u2500\u2500\u239f = \u275811\u27e9\n",
        " 1     1,0  1  1 \u239d    2            2     \u23a0       "
       ]
      },
      {
       "metadata": {},
       "output_type": "display_data",
       "png": "[encoded data removed]",
       "text": [
        "<matplotlib.figure.Figure at 0x10d0af090>"
       ]
      },
      {
       "metadata": {},
       "output_type": "display_data",
       "png": "[encoded data removed]",
       "text": [
        "<matplotlib.figure.Figure at 0x10d6cad90>"
       ]
      },
      {
       "metadata": {},
       "output_type": "display_data",
       "png": "[encoded data removed]",
       "text": [
        "<matplotlib.figure.Figure at 0x10d737a50>"
       ]
      },
      {
       "metadata": {},
       "output_type": "display_data",
       "png": "[encoded data removed]",
       "text": [
        "<matplotlib.figure.Figure at 0x10d79fc90>"
       ]
      }
     ],
     "prompt_number": 6
    }
   ],
   "metadata": {}
  }
 ]
}