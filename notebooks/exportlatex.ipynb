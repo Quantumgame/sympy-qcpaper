{
 "metadata": {
  "name": "exportlatex"
 }, 
 "nbformat": 2, 
 "worksheets": [
  {
   "cells": [
    {
     "cell_type": "code", 
     "collapsed": true, 
     "input": [
      "import sys, os", 
      "from IPython.nbformat import current", 
      "from IPython.utils.text import wrap_paragraphs"
     ], 
     "language": "python", 
     "outputs": [], 
     "prompt_number": 78
    }, 
    {
     "cell_type": "code", 
     "collapsed": true, 
     "input": [
      "def export_latex(fname):", 
      "    with open(fname) as f:", 
      "        nb = current.read(f, 'json')", 
      "    lines = ''", 
      "    for cell in nb.worksheets[0].cells:", 
      "        if cell.cell_type == u'code':", 
      "            lines += '\\\\begin{verbatim}\\n'", 
      "            lines += '%s\\n' % cell.input", 
      "            lines += '\\\\end{verbatim}\\n'", 
      "            for output in cell.outputs:", 
      "                if output.output_type == u'pyout':", 
      "                    if hasattr(output, 'latex'):", 
      "                        lines += '%s\\n' % output.latex", 
      "                    else:", 
      "                        lines += '\\n'", 
      "                        lines += '\\\\begin{verbatim}\\n'", 
      "                        lines += '%s\\n' % output.text", 
      "                        lines += '\\\\end{verbatim}\\n'", 
      "            lines += '\\n'", 
      "        if cell.cell_type == u'markdown':", 
      "            paragraphs = wrap_paragraphs(cell.source)", 
      "            for p in paragraphs:", 
      "                lines += p", 
      "                lines += '\\n\\n'", 
      "    newfname = os.path.splitext(fname)[0] + '.tex'", 
      "    with open(newfname,'w') as f:", 
      "        f.write(lines.encode('utf8'))"
     ], 
     "language": "python", 
     "outputs": [], 
     "prompt_number": 120
    }, 
    {
     "cell_type": "code", 
     "collapsed": true, 
     "input": [
      "if __name__ == '__main__':", 
      "    fname = sys.argv[1]", 
      "    export_latex(fname)"
     ], 
     "language": "python", 
     "outputs": [], 
     "prompt_number": 83
    }
   ]
  }
 ]
}