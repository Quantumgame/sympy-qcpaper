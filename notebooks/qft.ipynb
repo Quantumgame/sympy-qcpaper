{
 "metadata": {
  "name": ""
 },
 "nbformat": 3,
 "nbformat_minor": 0,
 "worksheets": [
  {
   "cells": [
    {
     "cell_type": "heading",
     "level": 1,
     "metadata": {},
     "source": [
      "Quantum Fourier Transform"
     ]
    },
    {
     "cell_type": "code",
     "collapsed": true,
     "input": [
      "%pylab inline"
     ],
     "language": "python",
     "metadata": {},
     "outputs": [
      {
       "output_type": "stream",
       "stream": "stdout",
       "text": [
        "Populating the interactive namespace from numpy and matplotlib\n"
       ]
      }
     ],
     "prompt_number": 1
    },
    {
     "cell_type": "code",
     "collapsed": false,
     "input": [
      "from sympy import init_printing\n",
      "init_printing(use_latex=True)"
     ],
     "language": "python",
     "metadata": {},
     "outputs": [],
     "prompt_number": 2
    },
    {
     "cell_type": "code",
     "collapsed": false,
     "input": [
      "from IPython.html.widgets.interact import interact, interactive\n",
      "from IPython.display import clear_output, display, HTML, Audio"
     ],
     "language": "python",
     "metadata": {},
     "outputs": [],
     "prompt_number": 10
    },
    {
     "cell_type": "code",
     "collapsed": true,
     "input": [
      "from sympy import sqrt, symbols, Rational\n",
      "from sympy import expand, Eq, Symbol, simplify, exp, sin\n",
      "from sympy.physics.quantum import *\n",
      "from sympy.physics.quantum.qubit import *\n",
      "from sympy.physics.quantum.gate import *\n",
      "from sympy.physics.quantum.grover import *\n",
      "from sympy.physics.quantum.qft import QFT, IQFT, Fourier\n",
      "from sympy.physics.quantum.circuitplot import circuit_plot"
     ],
     "language": "python",
     "metadata": {},
     "outputs": [],
     "prompt_number": 3
    },
    {
     "cell_type": "markdown",
     "metadata": {},
     "source": [
      "The Quantum Fourier Transform (QFT) is useful for a quantum algorithm for factoring numbers which is exponentially faster than what is thought to be possible on a classical machine. The transform does a DFT on the state of a quantum system. There is a simple decomposition of the QFT in terms of a few elementary gates."
     ]
    },
    {
     "cell_type": "heading",
     "level": 2,
     "metadata": {},
     "source": [
      "QFT Gate and Circuit"
     ]
    },
    {
     "cell_type": "markdown",
     "metadata": {},
     "source": [
      "Build a 3 qubit QFT and decompose it into primitive gates."
     ]
    },
    {
     "cell_type": "code",
     "collapsed": true,
     "input": [
      "fourier = QFT(0,3).decompose(); fourier"
     ],
     "language": "python",
     "metadata": {},
     "outputs": [
      {
       "latex": [
        "$$SWAP_{0,2} H_{0} C_{0}{\\left(S_{1}\\right)} H_{1} C_{0}{\\left(T_{2}\\right)} C_{1}{\\left(S_{2}\\right)} H_{2}$$"
       ],
       "metadata": {},
       "output_type": "pyout",
       "png": "[encoded data removed]",
       "prompt_number": 4,
       "text": [
        "SWAP   \u22c5H \u22c5C \u239bS \u239e\u22c5H \u22c5C \u239bT \u239e\u22c5C \u239bS \u239e\u22c5H \n",
        "    0,2  0  0\u239d 1\u23a0  1  0\u239d 2\u23a0  1\u239d 2\u23a0  2"
       ]
      }
     ],
     "prompt_number": 4
    },
    {
     "cell_type": "code",
     "collapsed": true,
     "input": [
      "circuit_plot(fourier, nqubits=3)"
     ],
     "language": "python",
     "metadata": {},
     "outputs": [
      {
       "metadata": {},
       "output_type": "pyout",
       "prompt_number": 5,
       "text": [
        "<sympy.physics.quantum.circuitplot.CircuitPlot at 0x10b7bf450>"
       ]
      },
      {
       "metadata": {},
       "output_type": "display_data",
       "png": "[encoded data removed]",
       "text": [
        "<matplotlib.figure.Figure at 0x10b7bf490>"
       ]
      }
     ],
     "prompt_number": 5
    },
    {
     "cell_type": "code",
     "collapsed": false,
     "input": [
      "def plot_qft(n):\n",
      "    circuit_plot(QFT(0,n).decompose(), nqubits=n)\n",
      "    show()\n",
      "interact(plot_qft, n=(2,8))"
     ],
     "language": "python",
     "metadata": {},
     "outputs": [
      {
       "metadata": {},
       "output_type": "display_data",
       "png": "[encoded data removed]",
       "text": [
        "<matplotlib.figure.Figure at 0x10c027410>"
       ]
      }
     ],
     "prompt_number": 13
    },
    {
     "cell_type": "markdown",
     "metadata": {},
     "source": [
      "The QFT circuit can be represented in various symbolic forms."
     ]
    },
    {
     "cell_type": "code",
     "collapsed": true,
     "input": [
      "m = represent(QFT(0,3), nqubits=3)"
     ],
     "language": "python",
     "metadata": {},
     "outputs": [],
     "prompt_number": 14
    },
    {
     "cell_type": "code",
     "collapsed": true,
     "input": [
      "m"
     ],
     "language": "python",
     "metadata": {},
     "outputs": [
      {
       "latex": [
        "$$\\left[\\begin{matrix}\\frac{\\sqrt{2}}{4} & \\frac{\\sqrt{2}}{4} & \\frac{\\sqrt{2}}{4} & \\frac{\\sqrt{2}}{4} & \\frac{\\sqrt{2}}{4} & \\frac{\\sqrt{2}}{4} & \\frac{\\sqrt{2}}{4} & \\frac{\\sqrt{2}}{4}\\\\\\frac{\\sqrt{2}}{4} & \\frac{\\sqrt{2}}{4} e^{\\frac{i \\pi}{4}} & \\frac{\\sqrt{2} i}{4} & \\frac{\\sqrt{2}}{4} e^{\\frac{3 \\pi}{4} i} & - \\frac{\\sqrt{2}}{4} & \\frac{\\sqrt{2}}{4} e^{\\frac{5 \\pi}{4} i} & - \\frac{\\sqrt{2} i}{4} & \\frac{\\sqrt{2}}{4} e^{\\frac{7 \\pi}{4} i}\\\\\\frac{\\sqrt{2}}{4} & \\frac{\\sqrt{2} i}{4} & - \\frac{\\sqrt{2}}{4} & - \\frac{\\sqrt{2} i}{4} & \\frac{\\sqrt{2}}{4} & \\frac{\\sqrt{2} i}{4} & - \\frac{\\sqrt{2}}{4} & - \\frac{\\sqrt{2} i}{4}\\\\\\frac{\\sqrt{2}}{4} & \\frac{\\sqrt{2}}{4} e^{\\frac{3 \\pi}{4} i} & - \\frac{\\sqrt{2} i}{4} & \\frac{\\sqrt{2}}{4} e^{\\frac{i \\pi}{4}} & - \\frac{\\sqrt{2}}{4} & \\frac{\\sqrt{2}}{4} e^{\\frac{7 \\pi}{4} i} & \\frac{\\sqrt{2} i}{4} & \\frac{\\sqrt{2}}{4} e^{\\frac{5 \\pi}{4} i}\\\\\\frac{\\sqrt{2}}{4} & - \\frac{\\sqrt{2}}{4} & \\frac{\\sqrt{2}}{4} & - \\frac{\\sqrt{2}}{4} & \\frac{\\sqrt{2}}{4} & - \\frac{\\sqrt{2}}{4} & \\frac{\\sqrt{2}}{4} & - \\frac{\\sqrt{2}}{4}\\\\\\frac{\\sqrt{2}}{4} & \\frac{\\sqrt{2}}{4} e^{\\frac{5 \\pi}{4} i} & \\frac{\\sqrt{2} i}{4} & \\frac{\\sqrt{2}}{4} e^{\\frac{7 \\pi}{4} i} & - \\frac{\\sqrt{2}}{4} & \\frac{\\sqrt{2}}{4} e^{\\frac{i \\pi}{4}} & - \\frac{\\sqrt{2} i}{4} & \\frac{\\sqrt{2}}{4} e^{\\frac{3 \\pi}{4} i}\\\\\\frac{\\sqrt{2}}{4} & - \\frac{\\sqrt{2} i}{4} & - \\frac{\\sqrt{2}}{4} & \\frac{\\sqrt{2} i}{4} & \\frac{\\sqrt{2}}{4} & - \\frac{\\sqrt{2} i}{4} & - \\frac{\\sqrt{2}}{4} & \\frac{\\sqrt{2} i}{4}\\\\\\frac{\\sqrt{2}}{4} & \\frac{\\sqrt{2}}{4} e^{\\frac{7 \\pi}{4} i} & - \\frac{\\sqrt{2} i}{4} & \\frac{\\sqrt{2}}{4} e^{\\frac{5 \\pi}{4} i} & - \\frac{\\sqrt{2}}{4} & \\frac{\\sqrt{2}}{4} e^{\\frac{3 \\pi}{4} i} & \\frac{\\sqrt{2} i}{4} & \\frac{\\sqrt{2}}{4} e^{\\frac{i \\pi}{4}}\\end{matrix}\\right]$$"
       ],
       "metadata": {},
       "output_type": "pyout",
       "png": "[encoded data removed]",
       "prompt_number": 15,
       "text": [
        "\u23a1  ___       ___          ___         ___         ___        ___          ___ \n",
        "\u23a2\u2572\u2571 2      \u2572\u2571 2         \u2572\u2571 2        \u2572\u2571 2        \u2572\u2571 2       \u2572\u2571 2         \u2572\u2571 2  \n",
        "\u23a2\u2500\u2500\u2500\u2500\u2500     \u2500\u2500\u2500\u2500\u2500        \u2500\u2500\u2500\u2500\u2500       \u2500\u2500\u2500\u2500\u2500       \u2500\u2500\u2500\u2500\u2500      \u2500\u2500\u2500\u2500\u2500        \u2500\u2500\u2500\u2500\u2500 \n",
        "\u23a2  4         4            4           4           4          4            4   \n",
        "\u23a2                                                                             \n",
        "\u23a2               \u2148\u22c5\u03c0                     3\u22c5\u2148\u22c5\u03c0                  5\u22c5\u2148\u22c5\u03c0          \n",
        "\u23a2               \u2500\u2500\u2500                     \u2500\u2500\u2500\u2500\u2500                  \u2500\u2500\u2500\u2500\u2500          \n",
        "\u23a2  ___     ___   4       ___       ___    4       ___     ___    4       ___  \n",
        "\u23a2\u2572\u2571 2    \u2572\u2571 2 \u22c5\u212f       \u2572\u2571 2 \u22c5\u2148   \u2572\u2571 2 \u22c5\u212f       -\u2572\u2571 2    \u2572\u2571 2 \u22c5\u212f       -\u2572\u2571 2 \u22c5\u2148\n",
        "\u23a2\u2500\u2500\u2500\u2500\u2500   \u2500\u2500\u2500\u2500\u2500\u2500\u2500\u2500\u2500\u2500    \u2500\u2500\u2500\u2500\u2500\u2500\u2500   \u2500\u2500\u2500\u2500\u2500\u2500\u2500\u2500\u2500\u2500\u2500\u2500  \u2500\u2500\u2500\u2500\u2500\u2500\u2500  \u2500\u2500\u2500\u2500\u2500\u2500\u2500\u2500\u2500\u2500\u2500\u2500  \u2500\u2500\u2500\u2500\u2500\u2500\u2500\u2500\n",
        "\u23a2  4         4            4           4           4          4            4   \n",
        "\u23a2                                                                             \n",
        "\u23a2  ___      ___           ___        ___          ___       ___           ___ \n",
        "\u23a2\u2572\u2571 2     \u2572\u2571 2 \u22c5\u2148      -\u2572\u2571 2      -\u2572\u2571 2 \u22c5\u2148      \u2572\u2571 2      \u2572\u2571 2 \u22c5\u2148      -\u2572\u2571 2  \n",
        "\u23a2\u2500\u2500\u2500\u2500\u2500    \u2500\u2500\u2500\u2500\u2500\u2500\u2500      \u2500\u2500\u2500\u2500\u2500\u2500\u2500    \u2500\u2500\u2500\u2500\u2500\u2500\u2500\u2500\u2500     \u2500\u2500\u2500\u2500\u2500     \u2500\u2500\u2500\u2500\u2500\u2500\u2500      \u2500\u2500\u2500\u2500\u2500\u2500\u2500\n",
        "\u23a2  4         4            4           4           4          4            4   \n",
        "\u23a2                                                                             \n",
        "\u23a2              3\u22c5\u2148\u22c5\u03c0                     \u2148\u22c5\u03c0                   7\u22c5\u2148\u22c5\u03c0          \n",
        "\u23a2              \u2500\u2500\u2500\u2500\u2500                     \u2500\u2500\u2500                   \u2500\u2500\u2500\u2500\u2500          \n",
        "\u23a2  ___    ___    4       ___        ___   4       ___     ___    4       ___  \n",
        "\u23a2\u2572\u2571 2   \u2572\u2571 2 \u22c5\u212f       -\u2572\u2571 2 \u22c5\u2148    \u2572\u2571 2 \u22c5\u212f      -\u2572\u2571 2    \u2572\u2571 2 \u22c5\u212f        \u2572\u2571 2 \u22c5\u2148\n",
        "\u23a2\u2500\u2500\u2500\u2500\u2500  \u2500\u2500\u2500\u2500\u2500\u2500\u2500\u2500\u2500\u2500\u2500\u2500  \u2500\u2500\u2500\u2500\u2500\u2500\u2500\u2500\u2500   \u2500\u2500\u2500\u2500\u2500\u2500\u2500\u2500\u2500\u2500   \u2500\u2500\u2500\u2500\u2500\u2500\u2500  \u2500\u2500\u2500\u2500\u2500\u2500\u2500\u2500\u2500\u2500\u2500\u2500   \u2500\u2500\u2500\u2500\u2500\u2500\u2500\n",
        "\u23a2  4         4            4           4           4          4            4   \n",
        "\u23a2                                                                             \n",
        "\u23a2  ___       ___          ___         ___         ___        ___          ___ \n",
        "\u23a2\u2572\u2571 2     -\u2572\u2571 2         \u2572\u2571 2       -\u2572\u2571 2        \u2572\u2571 2      -\u2572\u2571 2         \u2572\u2571 2  \n",
        "\u23a2\u2500\u2500\u2500\u2500\u2500    \u2500\u2500\u2500\u2500\u2500\u2500\u2500       \u2500\u2500\u2500\u2500\u2500      \u2500\u2500\u2500\u2500\u2500\u2500\u2500      \u2500\u2500\u2500\u2500\u2500     \u2500\u2500\u2500\u2500\u2500\u2500\u2500       \u2500\u2500\u2500\u2500\u2500 \n",
        "\u23a2  4         4            4           4           4          4            4   \n",
        "\u23a2                                                                             \n",
        "\u23a2              5\u22c5\u2148\u22c5\u03c0                    7\u22c5\u2148\u22c5\u03c0                   \u2148\u22c5\u03c0           \n",
        "\u23a2              \u2500\u2500\u2500\u2500\u2500                    \u2500\u2500\u2500\u2500\u2500                   \u2500\u2500\u2500           \n",
        "\u23a2  ___    ___    4       ___       ___    4       ___      ___   4       ___  \n",
        "\u23a2\u2572\u2571 2   \u2572\u2571 2 \u22c5\u212f        \u2572\u2571 2 \u22c5\u2148   \u2572\u2571 2 \u22c5\u212f       -\u2572\u2571 2     \u2572\u2571 2 \u22c5\u212f      -\u2572\u2571 2 \u22c5\u2148\n",
        "\u23a2\u2500\u2500\u2500\u2500\u2500  \u2500\u2500\u2500\u2500\u2500\u2500\u2500\u2500\u2500\u2500\u2500\u2500   \u2500\u2500\u2500\u2500\u2500\u2500\u2500   \u2500\u2500\u2500\u2500\u2500\u2500\u2500\u2500\u2500\u2500\u2500\u2500  \u2500\u2500\u2500\u2500\u2500\u2500\u2500   \u2500\u2500\u2500\u2500\u2500\u2500\u2500\u2500\u2500\u2500   \u2500\u2500\u2500\u2500\u2500\u2500\u2500\u2500\n",
        "\u23a2  4         4            4           4           4          4            4   \n",
        "\u23a2                                                                             \n",
        "\u23a2  ___      ___           ___        ___          ___       ___           ___ \n",
        "\u23a2\u2572\u2571 2    -\u2572\u2571 2 \u22c5\u2148      -\u2572\u2571 2       \u2572\u2571 2 \u22c5\u2148      \u2572\u2571 2     -\u2572\u2571 2 \u22c5\u2148      -\u2572\u2571 2  \n",
        "\u23a2\u2500\u2500\u2500\u2500\u2500   \u2500\u2500\u2500\u2500\u2500\u2500\u2500\u2500\u2500     \u2500\u2500\u2500\u2500\u2500\u2500\u2500     \u2500\u2500\u2500\u2500\u2500\u2500\u2500      \u2500\u2500\u2500\u2500\u2500    \u2500\u2500\u2500\u2500\u2500\u2500\u2500\u2500\u2500     \u2500\u2500\u2500\u2500\u2500\u2500\u2500\n",
        "\u23a2  4         4            4           4           4          4            4   \n",
        "\u23a2                                                                             \n",
        "\u23a2              7\u22c5\u2148\u22c5\u03c0                    5\u22c5\u2148\u22c5\u03c0                  3\u22c5\u2148\u22c5\u03c0          \n",
        "\u23a2              \u2500\u2500\u2500\u2500\u2500                    \u2500\u2500\u2500\u2500\u2500                  \u2500\u2500\u2500\u2500\u2500          \n",
        "\u23a2  ___    ___    4       ___       ___    4       ___     ___    4       ___  \n",
        "\u23a2\u2572\u2571 2   \u2572\u2571 2 \u22c5\u212f       -\u2572\u2571 2 \u22c5\u2148   \u2572\u2571 2 \u22c5\u212f       -\u2572\u2571 2    \u2572\u2571 2 \u22c5\u212f        \u2572\u2571 2 \u22c5\u2148\n",
        "\u23a2\u2500\u2500\u2500\u2500\u2500  \u2500\u2500\u2500\u2500\u2500\u2500\u2500\u2500\u2500\u2500\u2500\u2500  \u2500\u2500\u2500\u2500\u2500\u2500\u2500\u2500\u2500  \u2500\u2500\u2500\u2500\u2500\u2500\u2500\u2500\u2500\u2500\u2500\u2500  \u2500\u2500\u2500\u2500\u2500\u2500\u2500  \u2500\u2500\u2500\u2500\u2500\u2500\u2500\u2500\u2500\u2500\u2500\u2500   \u2500\u2500\u2500\u2500\u2500\u2500\u2500\n",
        "\u23a3  4         4            4           4           4          4            4   \n",
        "\n",
        "        ___    \u23a4\n",
        "      \u2572\u2571 2     \u23a5\n",
        "      \u2500\u2500\u2500\u2500\u2500    \u23a5\n",
        "        4      \u23a5\n",
        "               \u23a5\n",
        "          7\u22c5\u2148\u22c5\u03c0\u23a5\n",
        "          \u2500\u2500\u2500\u2500\u2500\u23a5\n",
        "     ___    4  \u23a5\n",
        "   \u2572\u2571 2 \u22c5\u212f     \u23a5\n",
        "\u2500  \u2500\u2500\u2500\u2500\u2500\u2500\u2500\u2500\u2500\u2500\u2500\u2500\u23a5\n",
        "        4      \u23a5\n",
        "               \u23a5\n",
        "       ___     \u23a5\n",
        "    -\u2572\u2571 2 \u22c5\u2148   \u23a5\n",
        "    \u2500\u2500\u2500\u2500\u2500\u2500\u2500\u2500\u2500  \u23a5\n",
        "        4      \u23a5\n",
        "               \u23a5\n",
        "          5\u22c5\u2148\u22c5\u03c0\u23a5\n",
        "          \u2500\u2500\u2500\u2500\u2500\u23a5\n",
        "     ___    4  \u23a5\n",
        "   \u2572\u2571 2 \u22c5\u212f     \u23a5\n",
        "   \u2500\u2500\u2500\u2500\u2500\u2500\u2500\u2500\u2500\u2500\u2500\u2500\u23a5\n",
        "        4      \u23a5\n",
        "               \u23a5\n",
        "        ___    \u23a5\n",
        "     -\u2572\u2571 2     \u23a5\n",
        "     \u2500\u2500\u2500\u2500\u2500\u2500\u2500   \u23a5\n",
        "        4      \u23a5\n",
        "               \u23a5\n",
        "          3\u22c5\u2148\u22c5\u03c0\u23a5\n",
        "          \u2500\u2500\u2500\u2500\u2500\u23a5\n",
        "     ___    4  \u23a5\n",
        "   \u2572\u2571 2 \u22c5\u212f     \u23a5\n",
        "\u2500  \u2500\u2500\u2500\u2500\u2500\u2500\u2500\u2500\u2500\u2500\u2500\u2500\u23a5\n",
        "        4      \u23a5\n",
        "               \u23a5\n",
        "       ___     \u23a5\n",
        "     \u2572\u2571 2 \u22c5\u2148   \u23a5\n",
        "     \u2500\u2500\u2500\u2500\u2500\u2500\u2500   \u23a5\n",
        "        4      \u23a5\n",
        "               \u23a5\n",
        "           \u2148\u22c5\u03c0 \u23a5\n",
        "           \u2500\u2500\u2500 \u23a5\n",
        "      ___   4  \u23a5\n",
        "    \u2572\u2571 2 \u22c5\u212f    \u23a5\n",
        "    \u2500\u2500\u2500\u2500\u2500\u2500\u2500\u2500\u2500\u2500 \u23a5\n",
        "        4      \u23a6"
       ]
      }
     ],
     "prompt_number": 15
    },
    {
     "cell_type": "code",
     "collapsed": true,
     "input": [
      "represent(Fourier(0,3), nqubits=3)*4/sqrt(2)"
     ],
     "language": "python",
     "metadata": {},
     "outputs": [
      {
       "latex": [
        "$$\\left[\\begin{matrix}1 & 1 & 1 & 1 & 1 & 1 & 1 & 1\\\\1 & \\omega & \\omega^{2} & \\omega^{3} & \\omega^{4} & \\omega^{5} & \\omega^{6} & \\omega^{7}\\\\1 & \\omega^{2} & \\omega^{4} & \\omega^{6} & 1 & \\omega^{2} & \\omega^{4} & \\omega^{6}\\\\1 & \\omega^{3} & \\omega^{6} & \\omega & \\omega^{4} & \\omega^{7} & \\omega^{2} & \\omega^{5}\\\\1 & \\omega^{4} & 1 & \\omega^{4} & 1 & \\omega^{4} & 1 & \\omega^{4}\\\\1 & \\omega^{5} & \\omega^{2} & \\omega^{7} & \\omega^{4} & \\omega & \\omega^{6} & \\omega^{3}\\\\1 & \\omega^{6} & \\omega^{4} & \\omega^{2} & 1 & \\omega^{6} & \\omega^{4} & \\omega^{2}\\\\1 & \\omega^{7} & \\omega^{6} & \\omega^{5} & \\omega^{4} & \\omega^{3} & \\omega^{2} & \\omega\\end{matrix}\\right]$$"
       ],
       "metadata": {},
       "output_type": "pyout",
       "png": "[encoded data removed]",
       "prompt_number": 16,
       "text": [
        "\u23a11  1   1   1   1   1   1   1 \u23a4\n",
        "\u23a2                             \u23a5\n",
        "\u23a2        2   3   4   5   6   7\u23a5\n",
        "\u23a21  \u03c9   \u03c9   \u03c9   \u03c9   \u03c9   \u03c9   \u03c9 \u23a5\n",
        "\u23a2                             \u23a5\n",
        "\u23a2    2   4   6       2   4   6\u23a5\n",
        "\u23a21  \u03c9   \u03c9   \u03c9   1   \u03c9   \u03c9   \u03c9 \u23a5\n",
        "\u23a2                             \u23a5\n",
        "\u23a2    3   6       4   7   2   5\u23a5\n",
        "\u23a21  \u03c9   \u03c9   \u03c9   \u03c9   \u03c9   \u03c9   \u03c9 \u23a5\n",
        "\u23a2                             \u23a5\n",
        "\u23a2    4       4       4       4\u23a5\n",
        "\u23a21  \u03c9   1   \u03c9   1   \u03c9   1   \u03c9 \u23a5\n",
        "\u23a2                             \u23a5\n",
        "\u23a2    5   2   7   4       6   3\u23a5\n",
        "\u23a21  \u03c9   \u03c9   \u03c9   \u03c9   \u03c9   \u03c9   \u03c9 \u23a5\n",
        "\u23a2                             \u23a5\n",
        "\u23a2    6   4   2       6   4   2\u23a5\n",
        "\u23a21  \u03c9   \u03c9   \u03c9   1   \u03c9   \u03c9   \u03c9 \u23a5\n",
        "\u23a2                             \u23a5\n",
        "\u23a2    7   6   5   4   3   2    \u23a5\n",
        "\u23a31  \u03c9   \u03c9   \u03c9   \u03c9   \u03c9   \u03c9   \u03c9 \u23a6"
       ]
      }
     ],
     "prompt_number": 16
    },
    {
     "cell_type": "markdown",
     "metadata": {},
     "source": [
      "<h2>QFT in Action</h2>"
     ]
    },
    {
     "cell_type": "markdown",
     "metadata": {},
     "source": [
      "Build a 3 qubit state to take the QFT of."
     ]
    },
    {
     "cell_type": "code",
     "collapsed": true,
     "input": [
      "state = (Qubit('000') + Qubit('010') + Qubit('100') + Qubit('110'))/sqrt(4); state"
     ],
     "language": "python",
     "metadata": {},
     "outputs": [
      {
       "latex": [
        "$$\\frac{1}{2} \\left({\\left|000\\right\\rangle } + {\\left|010\\right\\rangle } + {\\left|100\\right\\rangle } + {\\left|110\\right\\rangle }\\right)$$"
       ],
       "metadata": {},
       "output_type": "pyout",
       "png": "[encoded data removed]",
       "prompt_number": 17,
       "text": [
        "\u2758000\u27e9 + \u2758010\u27e9 + \u2758100\u27e9 + \u2758110\u27e9\n",
        "\u2500\u2500\u2500\u2500\u2500\u2500\u2500\u2500\u2500\u2500\u2500\u2500\u2500\u2500\u2500\u2500\u2500\u2500\u2500\u2500\u2500\u2500\u2500\u2500\u2500\u2500\u2500\u2500\u2500\n",
        "              2              "
       ]
      }
     ],
     "prompt_number": 17
    },
    {
     "cell_type": "markdown",
     "metadata": {},
     "source": [
      "Perform the QFT."
     ]
    },
    {
     "cell_type": "code",
     "collapsed": true,
     "input": [
      "qapply(fourier*state)"
     ],
     "language": "python",
     "metadata": {},
     "outputs": [
      {
       "latex": [
        "$$\\frac{\\sqrt{2}}{2} {\\left|000\\right\\rangle } + \\frac{\\sqrt{2}}{2} {\\left|100\\right\\rangle }$$"
       ],
       "metadata": {},
       "output_type": "pyout",
       "png": "[encoded data removed]",
       "prompt_number": 18,
       "text": [
        "  ___           ___      \n",
        "\u2572\u2571 2 \u22c5\u2758000\u27e9   \u2572\u2571 2 \u22c5\u2758100\u27e9\n",
        "\u2500\u2500\u2500\u2500\u2500\u2500\u2500\u2500\u2500\u2500\u2500 + \u2500\u2500\u2500\u2500\u2500\u2500\u2500\u2500\u2500\u2500\u2500\n",
        "     2             2     "
       ]
      }
     ],
     "prompt_number": 18
    },
    {
     "cell_type": "code",
     "collapsed": false,
     "input": [
      "def apply_qft(n):\n",
      "    state = Qubit(IntQubit(n, 3))\n",
      "    result = qapply(QFT(0,3).decompose()*state)\n",
      "    display(state)\n",
      "    display(result)\n",
      "interact(apply_qft, n=(0,7))"
     ],
     "language": "python",
     "metadata": {},
     "outputs": [
      {
       "latex": [
        "$${\\left|001\\right\\rangle }$$"
       ],
       "metadata": {},
       "output_type": "display_data",
       "png": "[encoded data removed]",
       "text": [
        "\u2758001\u27e9"
       ]
      },
      {
       "latex": [
        "$$\\frac{\\sqrt{2}}{4} {\\left|000\\right\\rangle } + \\frac{\\sqrt{2}}{4} e^{\\frac{i \\pi}{4}} {\\left|001\\right\\rangle } + \\frac{\\sqrt{2} i}{4} {\\left|010\\right\\rangle } + \\frac{\\sqrt{2} i}{4} e^{\\frac{i \\pi}{4}} {\\left|011\\right\\rangle } - \\frac{\\sqrt{2}}{4} {\\left|100\\right\\rangle } - \\frac{\\sqrt{2}}{4} e^{\\frac{i \\pi}{4}} {\\left|101\\right\\rangle } - \\frac{\\sqrt{2} i}{4} {\\left|110\\right\\rangle } - \\frac{\\sqrt{2} i}{4} e^{\\frac{i \\pi}{4}} {\\left|111\\right\\rangle }$$"
       ],
       "metadata": {},
       "output_type": "display_data",
       "png": "[encoded data removed]",
       "text": [
        "                     \u2148\u22c5\u03c0                                  \u2148\u22c5\u03c0                 \n",
        "                     \u2500\u2500\u2500                                  \u2500\u2500\u2500                 \n",
        "  ___           ___   4            ___             ___     4            ___   \n",
        "\u2572\u2571 2 \u22c5\u2758000\u27e9   \u2572\u2571 2 \u22c5\u212f   \u22c5\u2758001\u27e9   \u2572\u2571 2 \u22c5\u2148\u22c5\u2758010\u27e9   \u2572\u2571 2 \u22c5\u2148\u22c5\u212f   \u22c5\u2758011\u27e9   \u2572\u2571 2 \u22c5\u27581\n",
        "\u2500\u2500\u2500\u2500\u2500\u2500\u2500\u2500\u2500\u2500\u2500 + \u2500\u2500\u2500\u2500\u2500\u2500\u2500\u2500\u2500\u2500\u2500\u2500\u2500\u2500\u2500\u2500 + \u2500\u2500\u2500\u2500\u2500\u2500\u2500\u2500\u2500\u2500\u2500\u2500\u2500 + \u2500\u2500\u2500\u2500\u2500\u2500\u2500\u2500\u2500\u2500\u2500\u2500\u2500\u2500\u2500\u2500\u2500\u2500 - \u2500\u2500\u2500\u2500\u2500\u2500\u2500\u2500\n",
        "     4               4                 4                 4                 4  \n",
        "\n",
        "             \u2148\u22c5\u03c0                                  \u2148\u22c5\u03c0      \n",
        "             \u2500\u2500\u2500                                  \u2500\u2500\u2500      \n",
        "        ___   4            ___             ___     4       \n",
        "00\u27e9   \u2572\u2571 2 \u22c5\u212f   \u22c5\u2758101\u27e9   \u2572\u2571 2 \u22c5\u2148\u22c5\u2758110\u27e9   \u2572\u2571 2 \u22c5\u2148\u22c5\u212f   \u22c5\u2758111\u27e9\n",
        "\u2500\u2500\u2500 - \u2500\u2500\u2500\u2500\u2500\u2500\u2500\u2500\u2500\u2500\u2500\u2500\u2500\u2500\u2500\u2500 - \u2500\u2500\u2500\u2500\u2500\u2500\u2500\u2500\u2500\u2500\u2500\u2500\u2500 - \u2500\u2500\u2500\u2500\u2500\u2500\u2500\u2500\u2500\u2500\u2500\u2500\u2500\u2500\u2500\u2500\u2500\u2500\n",
        "             4                 4                 4         "
       ]
      }
     ],
     "prompt_number": 25
    },
    {
     "cell_type": "code",
     "collapsed": false,
     "input": [],
     "language": "python",
     "metadata": {},
     "outputs": []
    }
   ],
   "metadata": {}
  }
 ]
}