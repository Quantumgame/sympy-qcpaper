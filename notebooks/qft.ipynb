{
 "metadata": {
  "name": "qft"
 }, 
 "nbformat": 2, 
 "worksheets": [
  {
   "cells": [
    {
     "cell_type": "markdown", 
     "source": [
      "<h1>Quantum Fourier Transform</h1>"
     ]
    }, 
    {
     "cell_type": "code", 
     "collapsed": true, 
     "input": [
      "%load_ext sympyprinting"
     ], 
     "language": "python", 
     "outputs": [], 
     "prompt_number": 1
    }, 
    {
     "cell_type": "code", 
     "collapsed": true, 
     "input": [
      "from sympy import sqrt, symbols, Rational", 
      "from sympy import expand, Eq, Symbol, simplify, exp, sin", 
      "from sympy.physics.quantum import *", 
      "from sympy.physics.quantum.qubit import *", 
      "from sympy.physics.quantum.gate import *", 
      "from sympy.physics.quantum.grover import *", 
      "from sympy.physics.quantum.qft import QFT, IQFT, Fourier", 
      "from sympy.physics.quantum.circuitplot import circuit_plot"
     ], 
     "language": "python", 
     "outputs": [], 
     "prompt_number": 2
    }, 
    {
     "cell_type": "markdown", 
     "source": [
      "QFT is useful for a quantum algorithm for factoring numbers which is exponentially faster than what is thought to be possible on a classical machine.<br>", 
      "The transform does a DFT on the state of a quantum system<br>", 
      "There is a simple decomposition of the QFT in terms of a few elementary gates."
     ]
    }, 
    {
     "cell_type": "markdown", 
     "source": [
      "<h2>QFT Gate and Circuit</h2>"
     ]
    }, 
    {
     "cell_type": "markdown", 
     "source": [
      "Build a 3 qubit QFT and decompose it into primitive gates."
     ]
    }, 
    {
     "cell_type": "code", 
     "collapsed": true, 
     "input": [
      "fourier = QFT(0,3).decompose(); fourier"
     ], 
     "language": "python", 
     "outputs": [], 
     "prompt_number": 3
    }, 
    {
     "cell_type": "code", 
     "collapsed": true, 
     "input": [
      "circuit_plot(fourier, nqubits=3)"
     ], 
     "language": "python", 
     "outputs": [], 
     "prompt_number": 4
    }, 
    {
     "cell_type": "markdown", 
     "source": [
      "The QFT circuit can be represented in various symbolic forms."
     ]
    }, 
    {
     "cell_type": "code", 
     "collapsed": true, 
     "input": [
      "m = represent(fourier, nqubits=3)"
     ], 
     "language": "python", 
     "outputs": [], 
     "prompt_number": 5
    }, 
    {
     "cell_type": "code", 
     "collapsed": true, 
     "input": [
      "m"
     ], 
     "language": "python", 
     "outputs": [], 
     "prompt_number": 6
    }, 
    {
     "cell_type": "code", 
     "collapsed": true, 
     "input": [
      "represent(Fourier(0,3), nqubits=3)*4/sqrt(2)"
     ], 
     "language": "python", 
     "outputs": [], 
     "prompt_number": 7
    }, 
    {
     "cell_type": "markdown", 
     "source": [
      "<h2>QFT in Action</h2>"
     ]
    }, 
    {
     "cell_type": "markdown", 
     "source": [
      "Build a 3 qubit state to take the QFT of."
     ]
    }, 
    {
     "cell_type": "code", 
     "collapsed": true, 
     "input": [
      "state = (Qubit('000') + Qubit('010') + Qubit('100') + Qubit('110'))/sqrt(4); state"
     ], 
     "language": "python", 
     "outputs": [], 
     "prompt_number": 8
    }, 
    {
     "cell_type": "markdown", 
     "source": [
      "Perform the QFT."
     ]
    }, 
    {
     "cell_type": "code", 
     "collapsed": true, 
     "input": [
      "qapply(fourier*state)"
     ], 
     "language": "python", 
     "outputs": [], 
     "prompt_number": 9
    }, 
    {
     "cell_type": "code", 
     "collapsed": true, 
     "input": [
      "%notebook save qft.ipynb"
     ], 
     "language": "python", 
     "outputs": [], 
     "prompt_number": 23
    }, 
    {
     "cell_type": "code", 
     "collapsed": true, 
     "input": [
      "%notebook load density_matrix.ipynb"
     ], 
     "language": "python", 
     "outputs": [], 
     "prompt_number": 207
    }
   ]
  }
 ]
}